{
 "cells": [
  {
   "cell_type": "code",
   "execution_count": 1,
   "metadata": {},
   "outputs": [],
   "source": [
    "from pprint import pprint\n",
    "\n",
    "from app import FrequencyQA, TfIdfQA, TfIdf2stepQA, W2VQA, PHTfIdfQA, PageHandler"
   ]
  },
  {
   "cell_type": "code",
   "execution_count": 2,
   "metadata": {},
   "outputs": [],
   "source": [
    "URL = \"https://tutorial.djangogirls.org/ru/\"\n",
    "question = 'Кто родители Джона Сноу?'"
   ]
  },
  {
   "cell_type": "code",
   "execution_count": 3,
   "metadata": {},
   "outputs": [],
   "source": [
    "def print_results(results):\n",
    "    for text in results:\n",
    "        print(text, end='\\n'*3)"
   ]
  },
  {
   "cell_type": "code",
   "execution_count": 4,
   "metadata": {
    "scrolled": true
   },
   "outputs": [
    {
     "name": "stdout",
     "output_type": "stream",
     "text": [
      "Initialize HTMLParser with \"https://tutorial.djangogirls.org/ru/\"\n"
     ]
    },
    {
     "name": "stderr",
     "output_type": "stream",
     "text": [
      "/usr/local/lib/python3.5/dist-packages/bs4/__init__.py:181: UserWarning: No parser was explicitly specified, so I'm using the best available HTML parser for this system (\"html5lib\"). This usually isn't a problem, but if you run this code on another system, or in a different virtual environment, it may use a different parser and behave differently.\n",
      "\n",
      "The code that caused this warning is on line 184 of the file /usr/lib/python3.5/runpy.py. To get rid of this warning, change code that looks like this:\n",
      "\n",
      " BeautifulSoup(YOUR_MARKUP})\n",
      "\n",
      "to this:\n",
      "\n",
      " BeautifulSoup(YOUR_MARKUP, \"html5lib\")\n",
      "\n",
      "  markup_type=markup_type))\n"
     ]
    },
    {
     "name": "stdout",
     "output_type": "stream",
     "text": [
      "(0) https://tutorial.djangogirls.org/ru/\n",
      "Save texts to \"/src/app/settings/../../data/texts/tutorial_djangogirls_org_ru__00000\"\n",
      "(1) https://tutorial.djangogirls.org/ru/installation/\n",
      "Save texts to \"/src/app/settings/../../data/texts/tutorial_djangogirls_org_ru_installation__00000\"\n",
      "(2) https://tutorial.djangogirls.org/ru/how_the_internet_works/\n",
      "Save texts to \"/src/app/settings/../../data/texts/tutorial_djangogirls_org_ru_how_the_internet_works__00000\"\n",
      "(3) https://tutorial.djangogirls.org/ru/intro_to_command_line/\n",
      "Save texts to \"/src/app/settings/../../data/texts/tutorial_djangogirls_org_ru_intro_to_command_line__00000\"\n",
      "(4) https://tutorial.djangogirls.org/ru/python_installation/\n",
      "Save texts to \"/src/app/settings/../../data/texts/tutorial_djangogirls_org_ru_python_installation__00000\"\n",
      "(5) https://tutorial.djangogirls.org/ru/code_editor/\n",
      "Save texts to \"/src/app/settings/../../data/texts/tutorial_djangogirls_org_ru_code_editor__00000\"\n",
      "(6) https://tutorial.djangogirls.org/ru/python_introduction/\n",
      "Save texts to \"/src/app/settings/../../data/texts/tutorial_djangogirls_org_ru_python_introduction__00000\"\n",
      "(7) https://tutorial.djangogirls.org/ru/django/\n",
      "Save texts to \"/src/app/settings/../../data/texts/tutorial_djangogirls_org_ru_django__00000\"\n",
      "(8) https://tutorial.djangogirls.org/ru/django_installation/\n",
      "Save texts to \"/src/app/settings/../../data/texts/tutorial_djangogirls_org_ru_django_installation__00000\"\n",
      "(9) https://tutorial.djangogirls.org/ru/django_start_project/\n",
      "Save texts to \"/src/app/settings/../../data/texts/tutorial_djangogirls_org_ru_django_start_project__00000\"\n",
      "(10) https://tutorial.djangogirls.org/ru/django_models/\n",
      "Save texts to \"/src/app/settings/../../data/texts/tutorial_djangogirls_org_ru_django_models__00000\"\n",
      "(11) https://tutorial.djangogirls.org/ru/django_admin/\n",
      "Save texts to \"/src/app/settings/../../data/texts/tutorial_djangogirls_org_ru_django_admin__00000\"\n",
      "(12) https://tutorial.djangogirls.org/ru/deploy/\n",
      "Save texts to \"/src/app/settings/../../data/texts/tutorial_djangogirls_org_ru_deploy__00000\"\n",
      "(13) https://tutorial.djangogirls.org/ru/django_urls/\n",
      "Save texts to \"/src/app/settings/../../data/texts/tutorial_djangogirls_org_ru_django_urls__00000\"\n",
      "(14) https://tutorial.djangogirls.org/ru/django_views/\n",
      "Save texts to \"/src/app/settings/../../data/texts/tutorial_djangogirls_org_ru_django_views__00000\"\n",
      "(15) https://tutorial.djangogirls.org/ru/html/\n",
      "Save texts to \"/src/app/settings/../../data/texts/tutorial_djangogirls_org_ru_html__00000\"\n",
      "(16) https://tutorial.djangogirls.org/ru/django_orm/\n",
      "Save texts to \"/src/app/settings/../../data/texts/tutorial_djangogirls_org_ru_django_orm__00000\"\n",
      "(17) https://tutorial.djangogirls.org/ru/dynamic_data_in_templates/\n",
      "Save texts to \"/src/app/settings/../../data/texts/tutorial_djangogirls_org_ru_dynamic_data_in_templates__00000\"\n",
      "(18) https://tutorial.djangogirls.org/ru/django_templates/\n",
      "Save texts to \"/src/app/settings/../../data/texts/tutorial_djangogirls_org_ru_django_templates__00000\"\n",
      "(19) https://tutorial.djangogirls.org/ru/css/\n",
      "Save texts to \"/src/app/settings/../../data/texts/tutorial_djangogirls_org_ru_css__00000\"\n",
      "(20) https://tutorial.djangogirls.org/ru/template_extending/\n",
      "Save texts to \"/src/app/settings/../../data/texts/tutorial_djangogirls_org_ru_template_extending__00000\"\n",
      "(21) https://tutorial.djangogirls.org/ru/extend_your_application/\n",
      "Save texts to \"/src/app/settings/../../data/texts/tutorial_djangogirls_org_ru_extend_your_application__00000\"\n",
      "(22) https://tutorial.djangogirls.org/ru/django_forms/\n",
      "Save texts to \"/src/app/settings/../../data/texts/tutorial_djangogirls_org_ru_django_forms__00000\"\n",
      "(23) https://tutorial.djangogirls.org/ru/whats_next/\n",
      "Save texts to \"/src/app/settings/../../data/texts/tutorial_djangogirls_org_ru_whats_next__00000\"\n",
      "(24) https://tutorial.djangogirls.org/ru/\n",
      "Save texts to \"/src/app/settings/../../data/texts/tutorial_djangogirls_org_ru__00000\"\n",
      "(25) https://tutorial.djangogirls.org/ru/how_the_internet_works/\n",
      "Save texts to \"/src/app/settings/../../data/texts/tutorial_djangogirls_org_ru_how_the_internet_works__00000\"\n",
      "(26) https://tutorial.djangogirls.org/ru/installation/\n",
      "Save texts to \"/src/app/settings/../../data/texts/tutorial_djangogirls_org_ru_installation__00000\"\n",
      "Iterate over 27 saved texts\n"
     ]
    }
   ],
   "source": [
    "ph = PageHandler(URL)"
   ]
  },
  {
   "cell_type": "code",
   "execution_count": 5,
   "metadata": {},
   "outputs": [],
   "source": [
    "from gensim.models import KeyedVectors\n",
    "from app.settings.paths import WORD2VEC_WEIGHTS_FILE\n",
    "w2v = KeyedVectors.load_word2vec_format(WORD2VEC_WEIGHTS_FILE, binary=True)"
   ]
  },
  {
   "cell_type": "code",
   "execution_count": 6,
   "metadata": {
    "scrolled": true
   },
   "outputs": [],
   "source": [
    "w2v_qa = W2VQA(ph, w2v)"
   ]
  },
  {
   "cell_type": "code",
   "execution_count": 7,
   "metadata": {},
   "outputs": [
    {
     "ename": "IndexError",
     "evalue": "list index out of range",
     "output_type": "error",
     "traceback": [
      "\u001b[0;31m---------------------------------------------------------------------------\u001b[0m",
      "\u001b[0;31mIndexError\u001b[0m                                Traceback (most recent call last)",
      "\u001b[0;32m<ipython-input-7-2c91854d96d4>\u001b[0m in \u001b[0;36m<module>\u001b[0;34m()\u001b[0m\n\u001b[0;32m----> 1\u001b[0;31m \u001b[0mresults\u001b[0m \u001b[0;34m=\u001b[0m \u001b[0mw2v_qa\u001b[0m\u001b[0;34m.\u001b[0m\u001b[0mn_closest_paragraphs\u001b[0m\u001b[0;34m(\u001b[0m\u001b[0mquestion\u001b[0m\u001b[0;34m,\u001b[0m \u001b[0mn\u001b[0m\u001b[0;34m=\u001b[0m\u001b[0;36m2\u001b[0m\u001b[0;34m)\u001b[0m\u001b[0;34m\u001b[0m\u001b[0m\n\u001b[0m\u001b[1;32m      2\u001b[0m \u001b[0mprint_results\u001b[0m\u001b[0;34m(\u001b[0m\u001b[0mresults\u001b[0m\u001b[0;34m)\u001b[0m\u001b[0;34m\u001b[0m\u001b[0m\n",
      "\u001b[0;32m/src/app/qa.py\u001b[0m in \u001b[0;36mn_closest_paragraphs\u001b[0;34m(self, question, n, mode, n_filter)\u001b[0m\n\u001b[1;32m    165\u001b[0m             \u001b[0mtexts_dist\u001b[0m \u001b[0;34m=\u001b[0m \u001b[0;34m[\u001b[0m\u001b[0;34m]\u001b[0m\u001b[0;34m\u001b[0m\u001b[0m\n\u001b[1;32m    166\u001b[0m             \u001b[0;32mfor\u001b[0m \u001b[0mind\u001b[0m \u001b[0;32min\u001b[0m \u001b[0minds\u001b[0m\u001b[0;34m:\u001b[0m\u001b[0;34m\u001b[0m\u001b[0m\n\u001b[0;32m--> 167\u001b[0;31m                 texts_dist.append((self._texts[ind],\n\u001b[0m\u001b[1;32m    168\u001b[0m                                    self.calculate_wmd(question,\n\u001b[1;32m    169\u001b[0m                                                       self._texts[ind])))\n",
      "\u001b[0;31mIndexError\u001b[0m: list index out of range"
     ]
    }
   ],
   "source": [
    "results = w2v_qa.n_closest_paragraphs(question, n=2)\n",
    "print_results(results)"
   ]
  },
  {
   "cell_type": "code",
   "execution_count": null,
   "metadata": {},
   "outputs": [],
   "source": []
  },
  {
   "cell_type": "code",
   "execution_count": null,
   "metadata": {},
   "outputs": [],
   "source": [
    "frequency_qa = FrequencyQA(ph)"
   ]
  },
  {
   "cell_type": "code",
   "execution_count": null,
   "metadata": {},
   "outputs": [],
   "source": [
    "results = frequency_qa.n_closest_paragraphs(question, n=2)\n",
    "print_results(results)"
   ]
  },
  {
   "cell_type": "code",
   "execution_count": null,
   "metadata": {},
   "outputs": [],
   "source": []
  },
  {
   "cell_type": "code",
   "execution_count": null,
   "metadata": {},
   "outputs": [],
   "source": [
    "tfidf_qa = PHTfIdfQA(ph)"
   ]
  },
  {
   "cell_type": "code",
   "execution_count": null,
   "metadata": {},
   "outputs": [],
   "source": [
    "results = tfidf_qa.n_closest_paragraphs(question, n=2)\n",
    "print_results(results)"
   ]
  },
  {
   "cell_type": "code",
   "execution_count": null,
   "metadata": {},
   "outputs": [],
   "source": []
  },
  {
   "cell_type": "code",
   "execution_count": null,
   "metadata": {},
   "outputs": [],
   "source": [
    "tfidf2_qa = TfIdf2stepQA(ph, n_best_pages=5)"
   ]
  },
  {
   "cell_type": "code",
   "execution_count": null,
   "metadata": {},
   "outputs": [],
   "source": [
    "results = tfidf2_qa.n_closest_paragraphs(question, n=2)\n",
    "print_results(results)"
   ]
  },
  {
   "cell_type": "code",
   "execution_count": null,
   "metadata": {},
   "outputs": [],
   "source": []
  }
 ],
 "metadata": {
  "kernelspec": {
   "display_name": "Python 3",
   "language": "python",
   "name": "python3"
  },
  "language_info": {
   "codemirror_mode": {
    "name": "ipython",
    "version": 3
   },
   "file_extension": ".py",
   "mimetype": "text/x-python",
   "name": "python",
   "nbconvert_exporter": "python",
   "pygments_lexer": "ipython3",
   "version": "3.5.2"
  }
 },
 "nbformat": 4,
 "nbformat_minor": 1
}
