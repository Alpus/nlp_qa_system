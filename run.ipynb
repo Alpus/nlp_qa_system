{
 "cells": [
  {
   "cell_type": "markdown",
   "metadata": {
    "deletable": true,
    "editable": true
   },
   "source": [
    "# Отчет\n",
    "\n",
    "Мы попробовали 4 модели:\n",
    "* Частотная\n",
    "* Tf-Idf\n",
    "* Improved Tf-Idf\n",
    "* Word2Vec"
   ]
  },
  {
   "cell_type": "code",
   "execution_count": 1,
   "metadata": {
    "collapsed": true,
    "deletable": true,
    "editable": true
   },
   "outputs": [],
   "source": [
    "from app import FrequencyQA, TfIdfQA, TfIdf2stepQA, W2VQA, PHTfIdfQA, PageHandler"
   ]
  },
  {
   "cell_type": "code",
   "execution_count": 2,
   "metadata": {
    "collapsed": true,
    "deletable": true,
    "editable": true
   },
   "outputs": [],
   "source": [
    "URL = \"https://7kingdoms.ru/wiki/\"\n",
    "question = 'Кто родители Джона Сноу?'"
   ]
  },
  {
   "cell_type": "code",
   "execution_count": 3,
   "metadata": {
    "collapsed": true,
    "deletable": true,
    "editable": true
   },
   "outputs": [],
   "source": [
    "def print_results(results):\n",
    "    for text in results:\n",
    "        print(text, end='\\n'*3)"
   ]
  },
  {
   "cell_type": "markdown",
   "metadata": {
    "deletable": true,
    "editable": true
   },
   "source": [
    "Скачиваем данные\n",
    "\n",
    "Краулер посещает все страницы сайта по заданному URL-адресу. Текст извлекаем из HTML-страниц с помощью Beautiful Soup."
   ]
  },
  {
   "cell_type": "code",
   "execution_count": 4,
   "metadata": {
    "collapsed": false,
    "deletable": true,
    "editable": true
   },
   "outputs": [
    {
     "name": "stdout",
     "output_type": "stream",
     "text": [
      "Initialize HTMLParser with \"https://7kingdoms.ru/wiki/\"\n"
     ]
    },
    {
     "name": "stderr",
     "output_type": "stream",
     "text": [
      "/usr/local/lib/python3.5/dist-packages/bs4/__init__.py:181: UserWarning: No parser was explicitly specified, so I'm using the best available HTML parser for this system (\"html5lib\"). This usually isn't a problem, but if you run this code on another system, or in a different virtual environment, it may use a different parser and behave differently.\n",
      "\n",
      "The code that caused this warning is on line 184 of the file /usr/lib/python3.5/runpy.py. To get rid of this warning, change code that looks like this:\n",
      "\n",
      " BeautifulSoup(YOUR_MARKUP})\n",
      "\n",
      "to this:\n",
      "\n",
      " BeautifulSoup(YOUR_MARKUP, \"html5lib\")\n",
      "\n",
      "  markup_type=markup_type))\n"
     ]
    },
    {
     "name": "stdout",
     "output_type": "stream",
     "text": [
      "(0) https://7kingdoms.ru/wiki/\n",
      "Save texts to \"/src/app/settings/../../data/texts/7kingdoms_ru_wiki__00000\"\n",
      "(1) https://7kingdoms.ru/wiki/%D0%AD%D0%BD%D1%86%D0%B8%D0%BA%D0%BB%D0%BE%D0%BF%D0%B5%D0%B4%D0%B8%D1%8F_%D0%9F%D0%B5%D1%81%D0%BD%D0%B8_%D0%9B%D1%8C%D0%B4%D0%B0_%D0%B8_%D0%9F%D0%BB%D0%B0%D0%BC%D0%B5%D0%BD%D0%B8\n",
      "Save texts to \"/src/app/settings/../../data/texts/7kingdoms_ru_wiki_%D0%AD%D0%BD%D1%86%D0%B8%D0%BA%D0%BB%D0%BE%D0%BF%D0%B5%D0%B4%D0%B8%D1%8F_%D0%9F%D0%B5%D1%81%D0%BD%D0%B8_%D0%9B%D1%8C%D0%B4%D0%B0_%D0%B8_%D0%9F%D0%BB%D0%B0%D0%BC%D0%B5%D0%BD%D0%B8_00000\"\n",
      "(2) https://7kingdoms.ru/wiki/%D0%9F%D0%BE%D1%80%D1%82%D0%B0%D0%BB:%D0%A6%D0%B8%D0%BA%D0%BB_%D0%9F%D0%B5%D1%81%D0%BD%D1%8C_%D0%9B%D1%8C%D0%B4%D0%B0_%D0%B8_%D0%9F%D0%BB%D0%B0%D0%BC%D0%B5%D0%BD%D0%B8\n",
      "Save texts to \"/src/app/settings/../../data/texts/7kingdoms_ru_wiki_%D0%9F%D0%BE%D1%80%D1%82%D0%B0%D0%BB:%D0%A6%D0%B8%D0%BA%D0%BB_%D0%9F%D0%B5%D1%81%D0%BD%D1%8C_%D0%9B%D1%8C%D0%B4%D0%B0_%D0%B8_%D0%9F%D0%BB%D0%B0%D0%BC%D0%B5%D0%BD%D0%B8_00000\"\n",
      "(3) https://7kingdoms.ru/wiki/%D0%9F%D0%BE%D1%80%D1%82%D0%B0%D0%BB:%D0%9F%D0%B5%D1%80%D1%81%D0%BE%D0%BD%D0%B0%D0%B6%D0%B8\n",
      "Save texts to \"/src/app/settings/../../data/texts/7kingdoms_ru_wiki_%D0%9F%D0%BE%D1%80%D1%82%D0%B0%D0%BB:%D0%9F%D0%B5%D1%80%D1%81%D0%BE%D0%BD%D0%B0%D0%B6%D0%B8_00000\"\n",
      "(4) https://7kingdoms.ru/wiki/%D0%98%D1%81%D1%82%D0%BE%D1%80%D0%B8%D1%8F\n",
      "Save texts to \"/src/app/settings/../../data/texts/7kingdoms_ru_wiki_%D0%98%D1%81%D1%82%D0%BE%D1%80%D0%B8%D1%8F_00000\"\n",
      "(5) https://7kingdoms.ru/wiki/%D0%9F%D0%BE%D1%80%D1%82%D0%B0%D0%BB:%D0%93%D0%B5%D0%BE%D0%B3%D1%80%D0%B0%D1%84%D0%B8%D1%8F\n",
      "Save texts to \"/src/app/settings/../../data/texts/7kingdoms_ru_wiki_%D0%9F%D0%BE%D1%80%D1%82%D0%B0%D0%BB:%D0%93%D0%B5%D0%BE%D0%B3%D1%80%D0%B0%D1%84%D0%B8%D1%8F_00000\"\n",
      "(6) https://7kingdoms.ru/wiki/%D0%9F%D0%BE%D1%80%D1%82%D0%B0%D0%BB:%D0%9D%D0%B0%D1%80%D0%BE%D0%B4%D1%8B_%D0%B8_%D0%BA%D1%83%D0%BB%D1%8C%D1%82%D1%83%D1%80%D0%B0\n",
      "Save texts to \"/src/app/settings/../../data/texts/7kingdoms_ru_wiki_%D0%9F%D0%BE%D1%80%D1%82%D0%B0%D0%BB:%D0%9D%D0%B0%D1%80%D0%BE%D0%B4%D1%8B_%D0%B8_%D0%BA%D1%83%D0%BB%D1%8C%D1%82%D1%83%D1%80%D0%B0_00000\"\n",
      "(7) https://7kingdoms.ru/wiki/%D0%A1%D0%BB%D1%83%D0%B6%D0%B5%D0%B1%D0%BD%D0%B0%D1%8F:%D0%A1%D0%BB%D1%83%D1%87%D0%B0%D0%B9%D0%BD%D0%B0%D1%8F_%D1%81%D1%82%D1%80%D0%B0%D0%BD%D0%B8%D1%86%D0%B0\n",
      "Save texts to \"/src/app/settings/../../data/texts/7kingdoms_ru_wiki_%D0%A1%D0%BB%D1%83%D0%B6%D0%B5%D0%B1%D0%BD%D0%B0%D1%8F:%D0%A1%D0%BB%D1%83%D1%87%D0%B0%D0%B9%D0%BD%D0%B0%D1%8F_%D1%81%D1%82%D1%80%D0%B0%D0%BD%D0%B8%D1%86%D0%B0_00000\"\n",
      "(8) https://7kingdoms.ru/wiki/%D0%9F%D0%9B%D0%98%D0%9E%D0%BF%D0%B5%D0%B4%D0%B8%D1%8F:%D0%9E%D0%BF%D0%B8%D1%81%D0%B0%D0%BD%D0%B8%D0%B5\n",
      "Save texts to \"/src/app/settings/../../data/texts/7kingdoms_ru_wiki_%D0%9F%D0%9B%D0%98%D0%9E%D0%BF%D0%B5%D0%B4%D0%B8%D1%8F:%D0%9E%D0%BF%D0%B8%D1%81%D0%B0%D0%BD%D0%B8%D0%B5_00000\"\n",
      "(9) https://7kingdoms.ru/wiki/%D0%9F%D0%BE%D0%BB%D0%B8%D1%82%D0%B8%D0%BA%D0%B0_%D0%BE_%D1%81%D0%BF%D0%BE%D0%B9%D0%BB%D0%B5%D1%80%D0%B0%D1%85\n",
      "Save texts to \"/src/app/settings/../../data/texts/7kingdoms_ru_wiki_%D0%9F%D0%BE%D0%BB%D0%B8%D1%82%D0%B8%D0%BA%D0%B0_%D0%BE_%D1%81%D0%BF%D0%BE%D0%B9%D0%BB%D0%B5%D1%80%D0%B0%D1%85_00000\"\n",
      "(10) https://7kingdoms.ru/wiki/%D0%98%D0%B3%D1%80%D0%B0_%D0%BF%D1%80%D0%B5%D1%81%D1%82%D0%BE%D0%BB%D0%BE%D0%B2\n",
      "Save texts to \"/src/app/settings/../../data/texts/7kingdoms_ru_wiki_%D0%98%D0%B3%D1%80%D0%B0_%D0%BF%D1%80%D0%B5%D1%81%D1%82%D0%BE%D0%BB%D0%BE%D0%B2_00000\"\n",
      "(11) https://7kingdoms.ru/wiki/%D0%91%D0%B8%D1%82%D0%B2%D0%B0_%D0%BA%D0%BE%D1%80%D0%BE%D0%BB%D0%B5%D0%B9\n",
      "Save texts to \"/src/app/settings/../../data/texts/7kingdoms_ru_wiki_%D0%91%D0%B8%D1%82%D0%B2%D0%B0_%D0%BA%D0%BE%D1%80%D0%BE%D0%BB%D0%B5%D0%B9_00000\"\n",
      "(12) https://7kingdoms.ru/wiki/%D0%91%D1%83%D1%80%D1%8F_%D0%BC%D0%B5%D1%87%D0%B5%D0%B9\n",
      "Save texts to \"/src/app/settings/../../data/texts/7kingdoms_ru_wiki_%D0%91%D1%83%D1%80%D1%8F_%D0%BC%D0%B5%D1%87%D0%B5%D0%B9_00000\"\n",
      "(13) https://7kingdoms.ru/wiki/%D0%9F%D0%B8%D1%80_%D1%81%D1%82%D0%B5%D1%80%D0%B2%D1%8F%D1%82%D0%BD%D0%B8%D0%BA%D0%BE%D0%B2\n",
      "Save texts to \"/src/app/settings/../../data/texts/7kingdoms_ru_wiki_%D0%9F%D0%B8%D1%80_%D1%81%D1%82%D0%B5%D1%80%D0%B2%D1%8F%D1%82%D0%BD%D0%B8%D0%BA%D0%BE%D0%B2_00000\"\n",
      "(14) https://7kingdoms.ru/wiki/%D0%A2%D0%B0%D0%BD%D0%B5%D1%86_%D1%81_%D0%B4%D1%80%D0%B0%D0%BA%D0%BE%D0%BD%D0%B0%D0%BC%D0%B8\n",
      "Save texts to \"/src/app/settings/../../data/texts/7kingdoms_ru_wiki_%D0%A2%D0%B0%D0%BD%D0%B5%D1%86_%D1%81_%D0%B4%D1%80%D0%B0%D0%BA%D0%BE%D0%BD%D0%B0%D0%BC%D0%B8_00000\"\n",
      "(15) https://7kingdoms.ru/wiki/%D0%92%D0%B5%D1%82%D1%80%D1%8B_%D0%97%D0%B8%D0%BC%D1%8B\n",
      "Save texts to \"/src/app/settings/../../data/texts/7kingdoms_ru_wiki_%D0%92%D0%B5%D1%82%D1%80%D1%8B_%D0%97%D0%B8%D0%BC%D1%8B_00000\"\n",
      "(16) https://7kingdoms.ru/wiki/%D0%9C%D0%B5%D1%87%D1%82%D0%B0_%D0%BE_%D0%92%D0%B5%D1%81%D0%BD%D0%B5\n",
      "Save texts to \"/src/app/settings/../../data/texts/7kingdoms_ru_wiki_%D0%9C%D0%B5%D1%87%D1%82%D0%B0_%D0%BE_%D0%92%D0%B5%D1%81%D0%BD%D0%B5_00000\"\n",
      "(17) https://7kingdoms.ru/wiki/%D0%98%D0%B3%D1%80%D0%B0_%D0%BF%D1%80%D0%B5%D1%81%D1%82%D0%BE%D0%BB%D0%BE%D0%B2:_%D1%81%D0%BE%D0%B4%D0%B5%D1%80%D0%B6%D0%B0%D0%BD%D0%B8%D0%B5_%D0%BF%D0%BE_%D0%B3%D0%BB%D0%B0%D0%B2%D0%B0%D0%BC\n",
      "Save texts to \"/src/app/settings/../../data/texts/7kingdoms_ru_wiki_%D0%98%D0%B3%D1%80%D0%B0_%D0%BF%D1%80%D0%B5%D1%81%D1%82%D0%BE%D0%BB%D0%BE%D0%B2:_%D1%81%D0%BE%D0%B4%D0%B5%D1%80%D0%B6%D0%B0%D0%BD%D0%B8%D0%B5_%D0%BF%D0%BE_%D0%B3%D0%BB%D0%B0%D0%B2%D0%B0%D0%BC_00000\"\n",
      "(18) https://7kingdoms.ru/wiki/%D0%91%D0%B8%D1%82%D0%B2%D0%B0_%D0%BA%D0%BE%D1%80%D0%BE%D0%BB%D0%B5%D0%B9:_%D1%81%D0%BE%D0%B4%D0%B5%D1%80%D0%B6%D0%B0%D0%BD%D0%B8%D0%B5_%D0%BF%D0%BE_%D0%B3%D0%BB%D0%B0%D0%B2%D0%B0%D0%BC\n",
      "Save texts to \"/src/app/settings/../../data/texts/7kingdoms_ru_wiki_%D0%91%D0%B8%D1%82%D0%B2%D0%B0_%D0%BA%D0%BE%D1%80%D0%BE%D0%BB%D0%B5%D0%B9:_%D1%81%D0%BE%D0%B4%D0%B5%D1%80%D0%B6%D0%B0%D0%BD%D0%B8%D0%B5_%D0%BF%D0%BE_%D0%B3%D0%BB%D0%B0%D0%B2%D0%B0%D0%BC_00000\"\n",
      "(19) https://7kingdoms.ru/wiki/%D0%91%D1%83%D1%80%D1%8F_%D0%BC%D0%B5%D1%87%D0%B5%D0%B9:_%D1%81%D0%BE%D0%B4%D0%B5%D1%80%D0%B6%D0%B0%D0%BD%D0%B8%D0%B5_%D0%BF%D0%BE_%D0%B3%D0%BB%D0%B0%D0%B2%D0%B0%D0%BC\n",
      "Save texts to \"/src/app/settings/../../data/texts/7kingdoms_ru_wiki_%D0%91%D1%83%D1%80%D1%8F_%D0%BC%D0%B5%D1%87%D0%B5%D0%B9:_%D1%81%D0%BE%D0%B4%D0%B5%D1%80%D0%B6%D0%B0%D0%BD%D0%B8%D0%B5_%D0%BF%D0%BE_%D0%B3%D0%BB%D0%B0%D0%B2%D0%B0%D0%BC_00000\"\n",
      "(20) https://7kingdoms.ru/wiki/%D0%9F%D0%B8%D1%80_%D1%81%D1%82%D0%B5%D1%80%D0%B2%D1%8F%D1%82%D0%BD%D0%B8%D0%BA%D0%BE%D0%B2:_%D1%81%D0%BE%D0%B4%D0%B5%D1%80%D0%B6%D0%B0%D0%BD%D0%B8%D0%B5_%D0%BF%D0%BE_%D0%B3%D0%BB%D0%B0%D0%B2%D0%B0%D0%BC\n",
      "Save texts to \"/src/app/settings/../../data/texts/7kingdoms_ru_wiki_%D0%9F%D0%B8%D1%80_%D1%81%D1%82%D0%B5%D1%80%D0%B2%D1%8F%D1%82%D0%BD%D0%B8%D0%BA%D0%BE%D0%B2:_%D1%81%D0%BE%D0%B4%D0%B5%D1%80%D0%B6%D0%B0%D0%BD%D0%B8%D0%B5_%D0%BF%D0%BE_%D0%B3%D0%BB%D0%B0%D0%B2%D0%B0%D0%BC_00000\"\n",
      "(21) https://7kingdoms.ru/wiki/%D0%A2%D0%B0%D0%BD%D0%B5%D1%86_%D1%81_%D0%B4%D1%80%D0%B0%D0%BA%D0%BE%D0%BD%D0%B0%D0%BC%D0%B8:_%D1%81%D0%BE%D0%B4%D0%B5%D1%80%D0%B6%D0%B0%D0%BD%D0%B8%D0%B5_%D0%BF%D0%BE_%D0%B3%D0%BB%D0%B0%D0%B2%D0%B0%D0%BC\n",
      "Save texts to \"/src/app/settings/../../data/texts/7kingdoms_ru_wiki_%D0%A2%D0%B0%D0%BD%D0%B5%D1%86_%D1%81_%D0%B4%D1%80%D0%B0%D0%BA%D0%BE%D0%BD%D0%B0%D0%BC%D0%B8:_%D1%81%D0%BE%D0%B4%D0%B5%D1%80%D0%B6%D0%B0%D0%BD%D0%B8%D0%B5_%D0%BF%D0%BE_%D0%B3%D0%BB%D0%B0%D0%B2%D0%B0%D0%BC_00000\"\n",
      "(22) https://7kingdoms.ru/wiki/%D0%A1%D0%BB%D1%83%D0%B6%D0%B5%D0%B1%D0%BD%D0%B0%D1%8F:%D0%A3%D0%BA%D0%B0%D0%B7%D0%B0%D1%82%D0%B5%D0%BB%D1%8C_%D0%BF%D0%BE_%D0%BD%D0%B0%D1%87%D0%B0%D0%BB%D1%83_%D0%BD%D0%B0%D0%B7%D0%B2%D0%B0%D0%BD%D0%B8%D1%8F/%D0%90\n",
      "Save texts to \"/src/app/settings/../../data/texts/7kingdoms_ru_wiki_%D0%A1%D0%BB%D1%83%D0%B6%D0%B5%D0%B1%D0%BD%D0%B0%D1%8F:%D0%A3%D0%BA%D0%B0%D0%B7%D0%B0%D1%82%D0%B5%D0%BB%D1%8C_%D0%BF%D0%BE_%D0%BD%D0%B0%D1%87%D0%B0%D0%BB%D1%83_%D0%BD%D0%B0%D0%B7%D0%B2%D0%B0%D0%BD%D0%B8%D1%8F_%D0%90_00000\"\n",
      "(23) https://7kingdoms.ru/wiki/%D0%A1%D0%BB%D1%83%D0%B6%D0%B5%D0%B1%D0%BD%D0%B0%D1%8F:%D0%A3%D0%BA%D0%B0%D0%B7%D0%B0%D1%82%D0%B5%D0%BB%D1%8C_%D0%BF%D0%BE_%D0%BD%D0%B0%D1%87%D0%B0%D0%BB%D1%83_%D0%BD%D0%B0%D0%B7%D0%B2%D0%B0%D0%BD%D0%B8%D1%8F/%D0%91\n",
      "Save texts to \"/src/app/settings/../../data/texts/7kingdoms_ru_wiki_%D0%A1%D0%BB%D1%83%D0%B6%D0%B5%D0%B1%D0%BD%D0%B0%D1%8F:%D0%A3%D0%BA%D0%B0%D0%B7%D0%B0%D1%82%D0%B5%D0%BB%D1%8C_%D0%BF%D0%BE_%D0%BD%D0%B0%D1%87%D0%B0%D0%BB%D1%83_%D0%BD%D0%B0%D0%B7%D0%B2%D0%B0%D0%BD%D0%B8%D1%8F_%D0%91_00000\"\n",
      "(24) https://7kingdoms.ru/wiki/%D0%A1%D0%BB%D1%83%D0%B6%D0%B5%D0%B1%D0%BD%D0%B0%D1%8F:%D0%A3%D0%BA%D0%B0%D0%B7%D0%B0%D1%82%D0%B5%D0%BB%D1%8C_%D0%BF%D0%BE_%D0%BD%D0%B0%D1%87%D0%B0%D0%BB%D1%83_%D0%BD%D0%B0%D0%B7%D0%B2%D0%B0%D0%BD%D0%B8%D1%8F/%D0%92\n",
      "Save texts to \"/src/app/settings/../../data/texts/7kingdoms_ru_wiki_%D0%A1%D0%BB%D1%83%D0%B6%D0%B5%D0%B1%D0%BD%D0%B0%D1%8F:%D0%A3%D0%BA%D0%B0%D0%B7%D0%B0%D1%82%D0%B5%D0%BB%D1%8C_%D0%BF%D0%BE_%D0%BD%D0%B0%D1%87%D0%B0%D0%BB%D1%83_%D0%BD%D0%B0%D0%B7%D0%B2%D0%B0%D0%BD%D0%B8%D1%8F_%D0%92_00000\"\n",
      "(25) https://7kingdoms.ru/wiki/%D0%A1%D0%BB%D1%83%D0%B6%D0%B5%D0%B1%D0%BD%D0%B0%D1%8F:%D0%A3%D0%BA%D0%B0%D0%B7%D0%B0%D1%82%D0%B5%D0%BB%D1%8C_%D0%BF%D0%BE_%D0%BD%D0%B0%D1%87%D0%B0%D0%BB%D1%83_%D0%BD%D0%B0%D0%B7%D0%B2%D0%B0%D0%BD%D0%B8%D1%8F/%D0%93\n",
      "Save texts to \"/src/app/settings/../../data/texts/7kingdoms_ru_wiki_%D0%A1%D0%BB%D1%83%D0%B6%D0%B5%D0%B1%D0%BD%D0%B0%D1%8F:%D0%A3%D0%BA%D0%B0%D0%B7%D0%B0%D1%82%D0%B5%D0%BB%D1%8C_%D0%BF%D0%BE_%D0%BD%D0%B0%D1%87%D0%B0%D0%BB%D1%83_%D0%BD%D0%B0%D0%B7%D0%B2%D0%B0%D0%BD%D0%B8%D1%8F_%D0%93_00000\"\n",
      "(26) https://7kingdoms.ru/wiki/%D0%A1%D0%BB%D1%83%D0%B6%D0%B5%D0%B1%D0%BD%D0%B0%D1%8F:%D0%A3%D0%BA%D0%B0%D0%B7%D0%B0%D1%82%D0%B5%D0%BB%D1%8C_%D0%BF%D0%BE_%D0%BD%D0%B0%D1%87%D0%B0%D0%BB%D1%83_%D0%BD%D0%B0%D0%B7%D0%B2%D0%B0%D0%BD%D0%B8%D1%8F/%D0%94\n",
      "Save texts to \"/src/app/settings/../../data/texts/7kingdoms_ru_wiki_%D0%A1%D0%BB%D1%83%D0%B6%D0%B5%D0%B1%D0%BD%D0%B0%D1%8F:%D0%A3%D0%BA%D0%B0%D0%B7%D0%B0%D1%82%D0%B5%D0%BB%D1%8C_%D0%BF%D0%BE_%D0%BD%D0%B0%D1%87%D0%B0%D0%BB%D1%83_%D0%BD%D0%B0%D0%B7%D0%B2%D0%B0%D0%BD%D0%B8%D1%8F_%D0%94_00000\"\n",
      "(27) https://7kingdoms.ru/wiki/%D0%A1%D0%BB%D1%83%D0%B6%D0%B5%D0%B1%D0%BD%D0%B0%D1%8F:%D0%A3%D0%BA%D0%B0%D0%B7%D0%B0%D1%82%D0%B5%D0%BB%D1%8C_%D0%BF%D0%BE_%D0%BD%D0%B0%D1%87%D0%B0%D0%BB%D1%83_%D0%BD%D0%B0%D0%B7%D0%B2%D0%B0%D0%BD%D0%B8%D1%8F/%D0%95\n",
      "Save texts to \"/src/app/settings/../../data/texts/7kingdoms_ru_wiki_%D0%A1%D0%BB%D1%83%D0%B6%D0%B5%D0%B1%D0%BD%D0%B0%D1%8F:%D0%A3%D0%BA%D0%B0%D0%B7%D0%B0%D1%82%D0%B5%D0%BB%D1%8C_%D0%BF%D0%BE_%D0%BD%D0%B0%D1%87%D0%B0%D0%BB%D1%83_%D0%BD%D0%B0%D0%B7%D0%B2%D0%B0%D0%BD%D0%B8%D1%8F_%D0%95_00000\"\n",
      "(28) https://7kingdoms.ru/wiki/%D0%A1%D0%BB%D1%83%D0%B6%D0%B5%D0%B1%D0%BD%D0%B0%D1%8F:%D0%A3%D0%BA%D0%B0%D0%B7%D0%B0%D1%82%D0%B5%D0%BB%D1%8C_%D0%BF%D0%BE_%D0%BD%D0%B0%D1%87%D0%B0%D0%BB%D1%83_%D0%BD%D0%B0%D0%B7%D0%B2%D0%B0%D0%BD%D0%B8%D1%8F/%D0%96\n",
      "Save texts to \"/src/app/settings/../../data/texts/7kingdoms_ru_wiki_%D0%A1%D0%BB%D1%83%D0%B6%D0%B5%D0%B1%D0%BD%D0%B0%D1%8F:%D0%A3%D0%BA%D0%B0%D0%B7%D0%B0%D1%82%D0%B5%D0%BB%D1%8C_%D0%BF%D0%BE_%D0%BD%D0%B0%D1%87%D0%B0%D0%BB%D1%83_%D0%BD%D0%B0%D0%B7%D0%B2%D0%B0%D0%BD%D0%B8%D1%8F_%D0%96_00000\"\n",
      "(29) https://7kingdoms.ru/wiki/%D0%A1%D0%BB%D1%83%D0%B6%D0%B5%D0%B1%D0%BD%D0%B0%D1%8F:%D0%A3%D0%BA%D0%B0%D0%B7%D0%B0%D1%82%D0%B5%D0%BB%D1%8C_%D0%BF%D0%BE_%D0%BD%D0%B0%D1%87%D0%B0%D0%BB%D1%83_%D0%BD%D0%B0%D0%B7%D0%B2%D0%B0%D0%BD%D0%B8%D1%8F/%D0%97\n",
      "Save texts to \"/src/app/settings/../../data/texts/7kingdoms_ru_wiki_%D0%A1%D0%BB%D1%83%D0%B6%D0%B5%D0%B1%D0%BD%D0%B0%D1%8F:%D0%A3%D0%BA%D0%B0%D0%B7%D0%B0%D1%82%D0%B5%D0%BB%D1%8C_%D0%BF%D0%BE_%D0%BD%D0%B0%D1%87%D0%B0%D0%BB%D1%83_%D0%BD%D0%B0%D0%B7%D0%B2%D0%B0%D0%BD%D0%B8%D1%8F_%D0%97_00000\"\n",
      "(30) https://7kingdoms.ru/wiki/%D0%A1%D0%BB%D1%83%D0%B6%D0%B5%D0%B1%D0%BD%D0%B0%D1%8F:%D0%A3%D0%BA%D0%B0%D0%B7%D0%B0%D1%82%D0%B5%D0%BB%D1%8C_%D0%BF%D0%BE_%D0%BD%D0%B0%D1%87%D0%B0%D0%BB%D1%83_%D0%BD%D0%B0%D0%B7%D0%B2%D0%B0%D0%BD%D0%B8%D1%8F/%D0%98\n",
      "Save texts to \"/src/app/settings/../../data/texts/7kingdoms_ru_wiki_%D0%A1%D0%BB%D1%83%D0%B6%D0%B5%D0%B1%D0%BD%D0%B0%D1%8F:%D0%A3%D0%BA%D0%B0%D0%B7%D0%B0%D1%82%D0%B5%D0%BB%D1%8C_%D0%BF%D0%BE_%D0%BD%D0%B0%D1%87%D0%B0%D0%BB%D1%83_%D0%BD%D0%B0%D0%B7%D0%B2%D0%B0%D0%BD%D0%B8%D1%8F_%D0%98_00000\"\n",
      "(31) https://7kingdoms.ru/wiki/%D0%A1%D0%BB%D1%83%D0%B6%D0%B5%D0%B1%D0%BD%D0%B0%D1%8F:%D0%A3%D0%BA%D0%B0%D0%B7%D0%B0%D1%82%D0%B5%D0%BB%D1%8C_%D0%BF%D0%BE_%D0%BD%D0%B0%D1%87%D0%B0%D0%BB%D1%83_%D0%BD%D0%B0%D0%B7%D0%B2%D0%B0%D0%BD%D0%B8%D1%8F/%D0%9A\n",
      "Save texts to \"/src/app/settings/../../data/texts/7kingdoms_ru_wiki_%D0%A1%D0%BB%D1%83%D0%B6%D0%B5%D0%B1%D0%BD%D0%B0%D1%8F:%D0%A3%D0%BA%D0%B0%D0%B7%D0%B0%D1%82%D0%B5%D0%BB%D1%8C_%D0%BF%D0%BE_%D0%BD%D0%B0%D1%87%D0%B0%D0%BB%D1%83_%D0%BD%D0%B0%D0%B7%D0%B2%D0%B0%D0%BD%D0%B8%D1%8F_%D0%9A_00000\"\n",
      "(32) https://7kingdoms.ru/wiki/%D0%A1%D0%BB%D1%83%D0%B6%D0%B5%D0%B1%D0%BD%D0%B0%D1%8F:%D0%A3%D0%BA%D0%B0%D0%B7%D0%B0%D1%82%D0%B5%D0%BB%D1%8C_%D0%BF%D0%BE_%D0%BD%D0%B0%D1%87%D0%B0%D0%BB%D1%83_%D0%BD%D0%B0%D0%B7%D0%B2%D0%B0%D0%BD%D0%B8%D1%8F/%D0%9B\n",
      "Save texts to \"/src/app/settings/../../data/texts/7kingdoms_ru_wiki_%D0%A1%D0%BB%D1%83%D0%B6%D0%B5%D0%B1%D0%BD%D0%B0%D1%8F:%D0%A3%D0%BA%D0%B0%D0%B7%D0%B0%D1%82%D0%B5%D0%BB%D1%8C_%D0%BF%D0%BE_%D0%BD%D0%B0%D1%87%D0%B0%D0%BB%D1%83_%D0%BD%D0%B0%D0%B7%D0%B2%D0%B0%D0%BD%D0%B8%D1%8F_%D0%9B_00000\"\n",
      "(33) https://7kingdoms.ru/wiki/%D0%A1%D0%BB%D1%83%D0%B6%D0%B5%D0%B1%D0%BD%D0%B0%D1%8F:%D0%A3%D0%BA%D0%B0%D0%B7%D0%B0%D1%82%D0%B5%D0%BB%D1%8C_%D0%BF%D0%BE_%D0%BD%D0%B0%D1%87%D0%B0%D0%BB%D1%83_%D0%BD%D0%B0%D0%B7%D0%B2%D0%B0%D0%BD%D0%B8%D1%8F/%D0%9C\n",
      "Save texts to \"/src/app/settings/../../data/texts/7kingdoms_ru_wiki_%D0%A1%D0%BB%D1%83%D0%B6%D0%B5%D0%B1%D0%BD%D0%B0%D1%8F:%D0%A3%D0%BA%D0%B0%D0%B7%D0%B0%D1%82%D0%B5%D0%BB%D1%8C_%D0%BF%D0%BE_%D0%BD%D0%B0%D1%87%D0%B0%D0%BB%D1%83_%D0%BD%D0%B0%D0%B7%D0%B2%D0%B0%D0%BD%D0%B8%D1%8F_%D0%9C_00000\"\n",
      "(34) https://7kingdoms.ru/wiki/%D0%A1%D0%BB%D1%83%D0%B6%D0%B5%D0%B1%D0%BD%D0%B0%D1%8F:%D0%A3%D0%BA%D0%B0%D0%B7%D0%B0%D1%82%D0%B5%D0%BB%D1%8C_%D0%BF%D0%BE_%D0%BD%D0%B0%D1%87%D0%B0%D0%BB%D1%83_%D0%BD%D0%B0%D0%B7%D0%B2%D0%B0%D0%BD%D0%B8%D1%8F/%D0%9D\n",
      "Save texts to \"/src/app/settings/../../data/texts/7kingdoms_ru_wiki_%D0%A1%D0%BB%D1%83%D0%B6%D0%B5%D0%B1%D0%BD%D0%B0%D1%8F:%D0%A3%D0%BA%D0%B0%D0%B7%D0%B0%D1%82%D0%B5%D0%BB%D1%8C_%D0%BF%D0%BE_%D0%BD%D0%B0%D1%87%D0%B0%D0%BB%D1%83_%D0%BD%D0%B0%D0%B7%D0%B2%D0%B0%D0%BD%D0%B8%D1%8F_%D0%9D_00000\"\n",
      "(35) https://7kingdoms.ru/wiki/%D0%A1%D0%BB%D1%83%D0%B6%D0%B5%D0%B1%D0%BD%D0%B0%D1%8F:%D0%A3%D0%BA%D0%B0%D0%B7%D0%B0%D1%82%D0%B5%D0%BB%D1%8C_%D0%BF%D0%BE_%D0%BD%D0%B0%D1%87%D0%B0%D0%BB%D1%83_%D0%BD%D0%B0%D0%B7%D0%B2%D0%B0%D0%BD%D0%B8%D1%8F/%D0%9E\n",
      "Save texts to \"/src/app/settings/../../data/texts/7kingdoms_ru_wiki_%D0%A1%D0%BB%D1%83%D0%B6%D0%B5%D0%B1%D0%BD%D0%B0%D1%8F:%D0%A3%D0%BA%D0%B0%D0%B7%D0%B0%D1%82%D0%B5%D0%BB%D1%8C_%D0%BF%D0%BE_%D0%BD%D0%B0%D1%87%D0%B0%D0%BB%D1%83_%D0%BD%D0%B0%D0%B7%D0%B2%D0%B0%D0%BD%D0%B8%D1%8F_%D0%9E_00000\"\n",
      "(36) https://7kingdoms.ru/wiki/%D0%A1%D0%BB%D1%83%D0%B6%D0%B5%D0%B1%D0%BD%D0%B0%D1%8F:%D0%A3%D0%BA%D0%B0%D0%B7%D0%B0%D1%82%D0%B5%D0%BB%D1%8C_%D0%BF%D0%BE_%D0%BD%D0%B0%D1%87%D0%B0%D0%BB%D1%83_%D0%BD%D0%B0%D0%B7%D0%B2%D0%B0%D0%BD%D0%B8%D1%8F/%D0%9F\n",
      "Save texts to \"/src/app/settings/../../data/texts/7kingdoms_ru_wiki_%D0%A1%D0%BB%D1%83%D0%B6%D0%B5%D0%B1%D0%BD%D0%B0%D1%8F:%D0%A3%D0%BA%D0%B0%D0%B7%D0%B0%D1%82%D0%B5%D0%BB%D1%8C_%D0%BF%D0%BE_%D0%BD%D0%B0%D1%87%D0%B0%D0%BB%D1%83_%D0%BD%D0%B0%D0%B7%D0%B2%D0%B0%D0%BD%D0%B8%D1%8F_%D0%9F_00000\"\n",
      "(37) https://7kingdoms.ru/wiki/%D0%A1%D0%BB%D1%83%D0%B6%D0%B5%D0%B1%D0%BD%D0%B0%D1%8F:%D0%A3%D0%BA%D0%B0%D0%B7%D0%B0%D1%82%D0%B5%D0%BB%D1%8C_%D0%BF%D0%BE_%D0%BD%D0%B0%D1%87%D0%B0%D0%BB%D1%83_%D0%BD%D0%B0%D0%B7%D0%B2%D0%B0%D0%BD%D0%B8%D1%8F/%D0%A0\n",
      "Save texts to \"/src/app/settings/../../data/texts/7kingdoms_ru_wiki_%D0%A1%D0%BB%D1%83%D0%B6%D0%B5%D0%B1%D0%BD%D0%B0%D1%8F:%D0%A3%D0%BA%D0%B0%D0%B7%D0%B0%D1%82%D0%B5%D0%BB%D1%8C_%D0%BF%D0%BE_%D0%BD%D0%B0%D1%87%D0%B0%D0%BB%D1%83_%D0%BD%D0%B0%D0%B7%D0%B2%D0%B0%D0%BD%D0%B8%D1%8F_%D0%A0_00000\"\n",
      "(38) https://7kingdoms.ru/wiki/%D0%A1%D0%BB%D1%83%D0%B6%D0%B5%D0%B1%D0%BD%D0%B0%D1%8F:%D0%A3%D0%BA%D0%B0%D0%B7%D0%B0%D1%82%D0%B5%D0%BB%D1%8C_%D0%BF%D0%BE_%D0%BD%D0%B0%D1%87%D0%B0%D0%BB%D1%83_%D0%BD%D0%B0%D0%B7%D0%B2%D0%B0%D0%BD%D0%B8%D1%8F/%D0%A1\n",
      "Save texts to \"/src/app/settings/../../data/texts/7kingdoms_ru_wiki_%D0%A1%D0%BB%D1%83%D0%B6%D0%B5%D0%B1%D0%BD%D0%B0%D1%8F:%D0%A3%D0%BA%D0%B0%D0%B7%D0%B0%D1%82%D0%B5%D0%BB%D1%8C_%D0%BF%D0%BE_%D0%BD%D0%B0%D1%87%D0%B0%D0%BB%D1%83_%D0%BD%D0%B0%D0%B7%D0%B2%D0%B0%D0%BD%D0%B8%D1%8F_%D0%A1_00000\"\n",
      "(39) https://7kingdoms.ru/wiki/%D0%A1%D0%BB%D1%83%D0%B6%D0%B5%D0%B1%D0%BD%D0%B0%D1%8F:%D0%A3%D0%BA%D0%B0%D0%B7%D0%B0%D1%82%D0%B5%D0%BB%D1%8C_%D0%BF%D0%BE_%D0%BD%D0%B0%D1%87%D0%B0%D0%BB%D1%83_%D0%BD%D0%B0%D0%B7%D0%B2%D0%B0%D0%BD%D0%B8%D1%8F/%D0%A2\n",
      "Save texts to \"/src/app/settings/../../data/texts/7kingdoms_ru_wiki_%D0%A1%D0%BB%D1%83%D0%B6%D0%B5%D0%B1%D0%BD%D0%B0%D1%8F:%D0%A3%D0%BA%D0%B0%D0%B7%D0%B0%D1%82%D0%B5%D0%BB%D1%8C_%D0%BF%D0%BE_%D0%BD%D0%B0%D1%87%D0%B0%D0%BB%D1%83_%D0%BD%D0%B0%D0%B7%D0%B2%D0%B0%D0%BD%D0%B8%D1%8F_%D0%A2_00000\"\n",
      "(40) https://7kingdoms.ru/wiki/%D0%A1%D0%BB%D1%83%D0%B6%D0%B5%D0%B1%D0%BD%D0%B0%D1%8F:%D0%A3%D0%BA%D0%B0%D0%B7%D0%B0%D1%82%D0%B5%D0%BB%D1%8C_%D0%BF%D0%BE_%D0%BD%D0%B0%D1%87%D0%B0%D0%BB%D1%83_%D0%BD%D0%B0%D0%B7%D0%B2%D0%B0%D0%BD%D0%B8%D1%8F/%D0%A3\n",
      "Save texts to \"/src/app/settings/../../data/texts/7kingdoms_ru_wiki_%D0%A1%D0%BB%D1%83%D0%B6%D0%B5%D0%B1%D0%BD%D0%B0%D1%8F:%D0%A3%D0%BA%D0%B0%D0%B7%D0%B0%D1%82%D0%B5%D0%BB%D1%8C_%D0%BF%D0%BE_%D0%BD%D0%B0%D1%87%D0%B0%D0%BB%D1%83_%D0%BD%D0%B0%D0%B7%D0%B2%D0%B0%D0%BD%D0%B8%D1%8F_%D0%A3_00000\"\n",
      "(41) https://7kingdoms.ru/wiki/%D0%A1%D0%BB%D1%83%D0%B6%D0%B5%D0%B1%D0%BD%D0%B0%D1%8F:%D0%A3%D0%BA%D0%B0%D0%B7%D0%B0%D1%82%D0%B5%D0%BB%D1%8C_%D0%BF%D0%BE_%D0%BD%D0%B0%D1%87%D0%B0%D0%BB%D1%83_%D0%BD%D0%B0%D0%B7%D0%B2%D0%B0%D0%BD%D0%B8%D1%8F/%D0%A4\n",
      "Save texts to \"/src/app/settings/../../data/texts/7kingdoms_ru_wiki_%D0%A1%D0%BB%D1%83%D0%B6%D0%B5%D0%B1%D0%BD%D0%B0%D1%8F:%D0%A3%D0%BA%D0%B0%D0%B7%D0%B0%D1%82%D0%B5%D0%BB%D1%8C_%D0%BF%D0%BE_%D0%BD%D0%B0%D1%87%D0%B0%D0%BB%D1%83_%D0%BD%D0%B0%D0%B7%D0%B2%D0%B0%D0%BD%D0%B8%D1%8F_%D0%A4_00000\"\n",
      "(42) https://7kingdoms.ru/wiki/%D0%A1%D0%BB%D1%83%D0%B6%D0%B5%D0%B1%D0%BD%D0%B0%D1%8F:%D0%A3%D0%BA%D0%B0%D0%B7%D0%B0%D1%82%D0%B5%D0%BB%D1%8C_%D0%BF%D0%BE_%D0%BD%D0%B0%D1%87%D0%B0%D0%BB%D1%83_%D0%BD%D0%B0%D0%B7%D0%B2%D0%B0%D0%BD%D0%B8%D1%8F/%D0%A5\n",
      "Save texts to \"/src/app/settings/../../data/texts/7kingdoms_ru_wiki_%D0%A1%D0%BB%D1%83%D0%B6%D0%B5%D0%B1%D0%BD%D0%B0%D1%8F:%D0%A3%D0%BA%D0%B0%D0%B7%D0%B0%D1%82%D0%B5%D0%BB%D1%8C_%D0%BF%D0%BE_%D0%BD%D0%B0%D1%87%D0%B0%D0%BB%D1%83_%D0%BD%D0%B0%D0%B7%D0%B2%D0%B0%D0%BD%D0%B8%D1%8F_%D0%A5_00000\"\n",
      "(43) https://7kingdoms.ru/wiki/%D0%A1%D0%BB%D1%83%D0%B6%D0%B5%D0%B1%D0%BD%D0%B0%D1%8F:%D0%A3%D0%BA%D0%B0%D0%B7%D0%B0%D1%82%D0%B5%D0%BB%D1%8C_%D0%BF%D0%BE_%D0%BD%D0%B0%D1%87%D0%B0%D0%BB%D1%83_%D0%BD%D0%B0%D0%B7%D0%B2%D0%B0%D0%BD%D0%B8%D1%8F/%D0%A6\n",
      "Save texts to \"/src/app/settings/../../data/texts/7kingdoms_ru_wiki_%D0%A1%D0%BB%D1%83%D0%B6%D0%B5%D0%B1%D0%BD%D0%B0%D1%8F:%D0%A3%D0%BA%D0%B0%D0%B7%D0%B0%D1%82%D0%B5%D0%BB%D1%8C_%D0%BF%D0%BE_%D0%BD%D0%B0%D1%87%D0%B0%D0%BB%D1%83_%D0%BD%D0%B0%D0%B7%D0%B2%D0%B0%D0%BD%D0%B8%D1%8F_%D0%A6_00000\"\n",
      "(44) https://7kingdoms.ru/wiki/%D0%A1%D0%BB%D1%83%D0%B6%D0%B5%D0%B1%D0%BD%D0%B0%D1%8F:%D0%A3%D0%BA%D0%B0%D0%B7%D0%B0%D1%82%D0%B5%D0%BB%D1%8C_%D0%BF%D0%BE_%D0%BD%D0%B0%D1%87%D0%B0%D0%BB%D1%83_%D0%BD%D0%B0%D0%B7%D0%B2%D0%B0%D0%BD%D0%B8%D1%8F/%D0%A7\n",
      "Save texts to \"/src/app/settings/../../data/texts/7kingdoms_ru_wiki_%D0%A1%D0%BB%D1%83%D0%B6%D0%B5%D0%B1%D0%BD%D0%B0%D1%8F:%D0%A3%D0%BA%D0%B0%D0%B7%D0%B0%D1%82%D0%B5%D0%BB%D1%8C_%D0%BF%D0%BE_%D0%BD%D0%B0%D1%87%D0%B0%D0%BB%D1%83_%D0%BD%D0%B0%D0%B7%D0%B2%D0%B0%D0%BD%D0%B8%D1%8F_%D0%A7_00000\"\n",
      "(45) https://7kingdoms.ru/wiki/%D0%A1%D0%BB%D1%83%D0%B6%D0%B5%D0%B1%D0%BD%D0%B0%D1%8F:%D0%A3%D0%BA%D0%B0%D0%B7%D0%B0%D1%82%D0%B5%D0%BB%D1%8C_%D0%BF%D0%BE_%D0%BD%D0%B0%D1%87%D0%B0%D0%BB%D1%83_%D0%BD%D0%B0%D0%B7%D0%B2%D0%B0%D0%BD%D0%B8%D1%8F/%D0%A8\n",
      "Save texts to \"/src/app/settings/../../data/texts/7kingdoms_ru_wiki_%D0%A1%D0%BB%D1%83%D0%B6%D0%B5%D0%B1%D0%BD%D0%B0%D1%8F:%D0%A3%D0%BA%D0%B0%D0%B7%D0%B0%D1%82%D0%B5%D0%BB%D1%8C_%D0%BF%D0%BE_%D0%BD%D0%B0%D1%87%D0%B0%D0%BB%D1%83_%D0%BD%D0%B0%D0%B7%D0%B2%D0%B0%D0%BD%D0%B8%D1%8F_%D0%A8_00000\"\n",
      "(46) https://7kingdoms.ru/wiki/%D0%A1%D0%BB%D1%83%D0%B6%D0%B5%D0%B1%D0%BD%D0%B0%D1%8F:%D0%A3%D0%BA%D0%B0%D0%B7%D0%B0%D1%82%D0%B5%D0%BB%D1%8C_%D0%BF%D0%BE_%D0%BD%D0%B0%D1%87%D0%B0%D0%BB%D1%83_%D0%BD%D0%B0%D0%B7%D0%B2%D0%B0%D0%BD%D0%B8%D1%8F/%D0%A9\n",
      "Save texts to \"/src/app/settings/../../data/texts/7kingdoms_ru_wiki_%D0%A1%D0%BB%D1%83%D0%B6%D0%B5%D0%B1%D0%BD%D0%B0%D1%8F:%D0%A3%D0%BA%D0%B0%D0%B7%D0%B0%D1%82%D0%B5%D0%BB%D1%8C_%D0%BF%D0%BE_%D0%BD%D0%B0%D1%87%D0%B0%D0%BB%D1%83_%D0%BD%D0%B0%D0%B7%D0%B2%D0%B0%D0%BD%D0%B8%D1%8F_%D0%A9_00000\"\n",
      "(47) https://7kingdoms.ru/wiki/%D0%A1%D0%BB%D1%83%D0%B6%D0%B5%D0%B1%D0%BD%D0%B0%D1%8F:%D0%A3%D0%BA%D0%B0%D0%B7%D0%B0%D1%82%D0%B5%D0%BB%D1%8C_%D0%BF%D0%BE_%D0%BD%D0%B0%D1%87%D0%B0%D0%BB%D1%83_%D0%BD%D0%B0%D0%B7%D0%B2%D0%B0%D0%BD%D0%B8%D1%8F/%D0%AD\n",
      "Save texts to \"/src/app/settings/../../data/texts/7kingdoms_ru_wiki_%D0%A1%D0%BB%D1%83%D0%B6%D0%B5%D0%B1%D0%BD%D0%B0%D1%8F:%D0%A3%D0%BA%D0%B0%D0%B7%D0%B0%D1%82%D0%B5%D0%BB%D1%8C_%D0%BF%D0%BE_%D0%BD%D0%B0%D1%87%D0%B0%D0%BB%D1%83_%D0%BD%D0%B0%D0%B7%D0%B2%D0%B0%D0%BD%D0%B8%D1%8F_%D0%AD_00000\"\n",
      "(48) https://7kingdoms.ru/wiki/%D0%A1%D0%BB%D1%83%D0%B6%D0%B5%D0%B1%D0%BD%D0%B0%D1%8F:%D0%A3%D0%BA%D0%B0%D0%B7%D0%B0%D1%82%D0%B5%D0%BB%D1%8C_%D0%BF%D0%BE_%D0%BD%D0%B0%D1%87%D0%B0%D0%BB%D1%83_%D0%BD%D0%B0%D0%B7%D0%B2%D0%B0%D0%BD%D0%B8%D1%8F/%D0%AE\n",
      "Save texts to \"/src/app/settings/../../data/texts/7kingdoms_ru_wiki_%D0%A1%D0%BB%D1%83%D0%B6%D0%B5%D0%B1%D0%BD%D0%B0%D1%8F:%D0%A3%D0%BA%D0%B0%D0%B7%D0%B0%D1%82%D0%B5%D0%BB%D1%8C_%D0%BF%D0%BE_%D0%BD%D0%B0%D1%87%D0%B0%D0%BB%D1%83_%D0%BD%D0%B0%D0%B7%D0%B2%D0%B0%D0%BD%D0%B8%D1%8F_%D0%AE_00000\"\n",
      "(49) https://7kingdoms.ru/wiki/%D0%A1%D0%BB%D1%83%D0%B6%D0%B5%D0%B1%D0%BD%D0%B0%D1%8F:%D0%A3%D0%BA%D0%B0%D0%B7%D0%B0%D1%82%D0%B5%D0%BB%D1%8C_%D0%BF%D0%BE_%D0%BD%D0%B0%D1%87%D0%B0%D0%BB%D1%83_%D0%BD%D0%B0%D0%B7%D0%B2%D0%B0%D0%BD%D0%B8%D1%8F/%D0%AF\n",
      "Save texts to \"/src/app/settings/../../data/texts/7kingdoms_ru_wiki_%D0%A1%D0%BB%D1%83%D0%B6%D0%B5%D0%B1%D0%BD%D0%B0%D1%8F:%D0%A3%D0%BA%D0%B0%D0%B7%D0%B0%D1%82%D0%B5%D0%BB%D1%8C_%D0%BF%D0%BE_%D0%BD%D0%B0%D1%87%D0%B0%D0%BB%D1%83_%D0%BD%D0%B0%D0%B7%D0%B2%D0%B0%D0%BD%D0%B8%D1%8F_%D0%AF_00000\"\n",
      "(50) https://7kingdoms.ru/wiki/%D0%A1%D0%BB%D1%83%D0%B6%D0%B5%D0%B1%D0%BD%D0%B0%D1%8F:%D0%A3%D0%BA%D0%B0%D0%B7%D0%B0%D1%82%D0%B5%D0%BB%D1%8C_%D0%BF%D0%BE_%D0%BD%D0%B0%D1%87%D0%B0%D0%BB%D1%83_%D0%BD%D0%B0%D0%B7%D0%B2%D0%B0%D0%BD%D0%B8%D1%8F/\n",
      "Save texts to \"/src/app/settings/../../data/texts/7kingdoms_ru_wiki_%D0%A1%D0%BB%D1%83%D0%B6%D0%B5%D0%B1%D0%BD%D0%B0%D1%8F:%D0%A3%D0%BA%D0%B0%D0%B7%D0%B0%D1%82%D0%B5%D0%BB%D1%8C_%D0%BF%D0%BE_%D0%BD%D0%B0%D1%87%D0%B0%D0%BB%D1%83_%D0%BD%D0%B0%D0%B7%D0%B2%D0%B0%D0%BD%D0%B8%D1%8F__00000\"\n",
      "(51) https://7kingdoms.ru/wiki/%D0%90%D0%B7%D0%BE%D1%80_%D0%90%D1%85%D0%B0%D0%B9\n",
      "Save texts to \"/src/app/settings/../../data/texts/7kingdoms_ru_wiki_%D0%90%D0%B7%D0%BE%D1%80_%D0%90%D1%85%D0%B0%D0%B9_00000\"\n",
      "(52) https://7kingdoms.ru/wiki/%D0%A4%D0%B0%D0%B9%D0%BB:Azor_ahai_by_themico.jpg\n",
      "Save texts to \"/src/app/settings/../../data/texts/7kingdoms_ru_wiki_%D0%A4%D0%B0%D0%B9%D0%BB:Azor_ahai_by_themico_jpg_00000\"\n",
      "(53) https://7kingdoms.ru/wiki/%D0%A4%D0%B0%D0%B9%D0%BB:Azor_ahai_by_themico.jpg\n",
      "Save texts to \"/src/app/settings/../../data/texts/7kingdoms_ru_wiki_%D0%A4%D0%B0%D0%B9%D0%BB:Azor_ahai_by_themico_jpg_00000\"\n",
      "(54) https://7kingdoms.ru/wiki/%D0%94%D0%BE%D0%BB%D0%B3%D0%B0%D1%8F_%D0%BD%D0%BE%D1%87%D1%8C\n",
      "Save texts to \"/src/app/settings/../../data/texts/7kingdoms_ru_wiki_%D0%94%D0%BE%D0%BB%D0%B3%D0%B0%D1%8F_%D0%BD%D0%BE%D1%87%D1%8C_00000\"\n",
      "(55) https://7kingdoms.ru/wiki/%D0%98%D0%BD%D1%8B%D0%B5\n",
      "Save texts to \"/src/app/settings/../../data/texts/7kingdoms_ru_wiki_%D0%98%D0%BD%D1%8B%D0%B5_00000\"\n",
      "(56) https://7kingdoms.ru/wiki/%D0%A1%D0%B2%D0%B5%D1%82%D0%BE%D0%B7%D0%B0%D1%80%D0%BD%D1%8B%D0%B9\n",
      "Save texts to \"/src/app/settings/../../data/texts/7kingdoms_ru_wiki_%D0%A1%D0%B2%D0%B5%D1%82%D0%BE%D0%B7%D0%B0%D1%80%D0%BD%D1%8B%D0%B9_00000\"\n",
      "(57) https://7kingdoms.ru/wiki/%D0%A0%27%D0%B3%D0%BB%D0%BE%D1%80\n",
      "Save texts to \"/src/app/settings/../../data/texts/7kingdoms_ru_wiki_%D0%A0%27%D0%B3%D0%BB%D0%BE%D1%80_00000\"\n",
      "(58) https://7kingdoms.ru/wiki/%D0%A2%D0%B0%D1%80%D0%B3%D0%B0%D1%80%D0%B8%D0%B5%D0%BD%D1%8B\n",
      "Save texts to \"/src/app/settings/../../data/texts/7kingdoms_ru_wiki_%D0%A2%D0%B0%D1%80%D0%B3%D0%B0%D1%80%D0%B8%D0%B5%D0%BD%D1%8B_00000\"\n",
      "(59) https://7kingdoms.ru/wiki/%D0%90%D0%B7%D0%BE%D1%80_%D0%90%D1%85%D0%B0%D0%B9\n",
      "Save texts to \"/src/app/settings/../../data/texts/7kingdoms_ru_wiki_%D0%90%D0%B7%D0%BE%D1%80_%D0%90%D1%85%D0%B0%D0%B9_00000\"\n",
      "(60) https://7kingdoms.ru/wiki/%D0%A1%D1%82%D0%B0%D1%80%D0%BA%D0%B8\n",
      "Save texts to \"/src/app/settings/../../data/texts/7kingdoms_ru_wiki_%D0%A1%D1%82%D0%B0%D1%80%D0%BA%D0%B8_00000\"\n",
      "(61) https://7kingdoms.ru/wiki/%D0%91%D0%B0%D1%80%D0%B0%D1%82%D0%B5%D0%BE%D0%BD%D1%8B\n",
      "Save texts to \"/src/app/settings/../../data/texts/7kingdoms_ru_wiki_%D0%91%D0%B0%D1%80%D0%B0%D1%82%D0%B5%D0%BE%D0%BD%D1%8B_00000\"\n",
      "(62) https://7kingdoms.ru/wiki/%D0%9B%D0%B0%D0%BD%D0%BD%D0%B8%D1%81%D1%82%D0%B5%D1%80%D1%8B\n",
      "Save texts to \"/src/app/settings/../../data/texts/7kingdoms_ru_wiki_%D0%9B%D0%B0%D0%BD%D0%BD%D0%B8%D1%81%D1%82%D0%B5%D1%80%D1%8B_00000\"\n",
      "(63) https://7kingdoms.ru/wiki/%D0%A2%D0%B0%D1%80%D0%B3%D0%B0%D1%80%D0%B8%D0%B5%D0%BD%D1%8B\n",
      "Save texts to \"/src/app/settings/../../data/texts/7kingdoms_ru_wiki_%D0%A2%D0%B0%D1%80%D0%B3%D0%B0%D1%80%D0%B8%D0%B5%D0%BD%D1%8B_00000\"\n",
      "(64) https://7kingdoms.ru/wiki/%D0%90%D1%80%D1%80%D0%B5%D0%BD%D1%8B\n",
      "Save texts to \"/src/app/settings/../../data/texts/7kingdoms_ru_wiki_%D0%90%D1%80%D1%80%D0%B5%D0%BD%D1%8B_00000\"\n",
      "(65) https://7kingdoms.ru/wiki/%D0%93%D1%80%D0%B5%D0%B9%D0%B4%D0%B6%D0%BE%D0%B8\n",
      "Save texts to \"/src/app/settings/../../data/texts/7kingdoms_ru_wiki_%D0%93%D1%80%D0%B5%D0%B9%D0%B4%D0%B6%D0%BE%D0%B8_00000\"\n",
      "(66) https://7kingdoms.ru/wiki/%D0%A2%D0%B0%D0%BB%D0%BB%D0%B8\n",
      "Save texts to \"/src/app/settings/../../data/texts/7kingdoms_ru_wiki_%D0%A2%D0%B0%D0%BB%D0%BB%D0%B8_00000\"\n",
      "(67) https://7kingdoms.ru/wiki/%D0%A2%D0%B8%D1%80%D0%B5%D0%BB%D0%BB%D1%8B\n",
      "Save texts to \"/src/app/settings/../../data/texts/7kingdoms_ru_wiki_%D0%A2%D0%B8%D1%80%D0%B5%D0%BB%D0%BB%D1%8B_00000\"\n",
      "(68) https://7kingdoms.ru/wiki/%D0%9C%D0%B0%D1%80%D1%82%D0%B5%D0%BB%D0%BB%D1%8B\n",
      "Save texts to \"/src/app/settings/../../data/texts/7kingdoms_ru_wiki_%D0%9C%D0%B0%D1%80%D1%82%D0%B5%D0%BB%D0%BB%D1%8B_00000\"\n",
      "(69) https://7kingdoms.ru/wiki/%D0%9D%D0%BE%D1%87%D0%BD%D0%BE%D0%B9_%D0%94%D0%BE%D0%B7%D0%BE%D1%80\n",
      "Save texts to \"/src/app/settings/../../data/texts/7kingdoms_ru_wiki_%D0%9D%D0%BE%D1%87%D0%BD%D0%BE%D0%B9_%D0%94%D0%BE%D0%B7%D0%BE%D1%80_00000\"\n",
      "(70) https://7kingdoms.ru/wiki/%D0%9F%D0%BE%D1%80%D1%82%D0%B0%D0%BB:%D0%9F%D0%B5%D1%80%D1%81%D0%BE%D0%BD%D0%B0%D0%B6%D0%B8\n",
      "Save texts to \"/src/app/settings/../../data/texts/7kingdoms_ru_wiki_%D0%9F%D0%BE%D1%80%D1%82%D0%B0%D0%BB:%D0%9F%D0%B5%D1%80%D1%81%D0%BE%D0%BD%D0%B0%D0%B6%D0%B8_00000\"\n",
      "(71) https://7kingdoms.ru/wiki/%D0%98%D1%81%D1%82%D0%BE%D1%80%D0%B8%D1%8F\n",
      "Save texts to \"/src/app/settings/../../data/texts/7kingdoms_ru_wiki_%D0%98%D1%81%D1%82%D0%BE%D1%80%D0%B8%D1%8F_00000\"\n",
      "(72) https://7kingdoms.ru/wiki/%D0%9F%D0%BE%D1%80%D1%82%D0%B0%D0%BB:%D0%93%D0%B5%D0%BE%D0%B3%D1%80%D0%B0%D1%84%D0%B8%D1%8F\n",
      "Save texts to \"/src/app/settings/../../data/texts/7kingdoms_ru_wiki_%D0%9F%D0%BE%D1%80%D1%82%D0%B0%D0%BB:%D0%93%D0%B5%D0%BE%D0%B3%D1%80%D0%B0%D1%84%D0%B8%D1%8F_00000\"\n",
      "(73) https://7kingdoms.ru/wiki/%D0%9F%D0%BE%D1%80%D1%82%D0%B0%D0%BB:%D0%9D%D0%B0%D1%80%D0%BE%D0%B4%D1%8B_%D0%B8_%D0%BA%D1%83%D0%BB%D1%8C%D1%82%D1%83%D1%80%D0%B0\n",
      "Save texts to \"/src/app/settings/../../data/texts/7kingdoms_ru_wiki_%D0%9F%D0%BE%D1%80%D1%82%D0%B0%D0%BB:%D0%9D%D0%B0%D1%80%D0%BE%D0%B4%D1%8B_%D0%B8_%D0%BA%D1%83%D0%BB%D1%8C%D1%82%D1%83%D1%80%D0%B0_00000\"\n",
      "(74) https://7kingdoms.ru/wiki/%D0%9D%D0%BE%D1%87%D0%BD%D0%BE%D0%B9_%D0%94%D0%BE%D0%B7%D0%BE%D1%80\n",
      "Save texts to \"/src/app/settings/../../data/texts/7kingdoms_ru_wiki_%D0%9D%D0%BE%D1%87%D0%BD%D0%BE%D0%B9_%D0%94%D0%BE%D0%B7%D0%BE%D1%80_00000\"\n",
      "(75) https://7kingdoms.ru/wiki/%D0%94%D0%B6%D0%BE%D0%BD_%D0%A1%D0%BD%D0%BE%D1%83\n",
      "Save texts to \"/src/app/settings/../../data/texts/7kingdoms_ru_wiki_%D0%94%D0%B6%D0%BE%D0%BD_%D0%A1%D0%BD%D0%BE%D1%83_00000\"\n",
      "(76) https://7kingdoms.ru/wiki/%D0%A1%D1%82%D0%B0%D1%80%D0%BA%D0%B8\n",
      "Save texts to \"/src/app/settings/../../data/texts/7kingdoms_ru_wiki_%D0%A1%D1%82%D0%B0%D1%80%D0%BA%D0%B8_00000\"\n",
      "(77) https://7kingdoms.ru/wiki/%D0%90%D1%80%D1%8C%D1%8F_%D0%A1%D1%82%D0%B0%D1%80%D0%BA\n",
      "Save texts to \"/src/app/settings/../../data/texts/7kingdoms_ru_wiki_%D0%90%D1%80%D1%8C%D1%8F_%D0%A1%D1%82%D0%B0%D1%80%D0%BA_00000\"\n",
      "(78) https://7kingdoms.ru/wiki/%D0%9B%D0%B0%D0%BD%D0%BD%D0%B8%D1%81%D1%82%D0%B5%D1%80%D1%8B\n",
      "Save texts to \"/src/app/settings/../../data/texts/7kingdoms_ru_wiki_%D0%9B%D0%B0%D0%BD%D0%BD%D0%B8%D1%81%D1%82%D0%B5%D1%80%D1%8B_00000\"\n",
      "(79) https://7kingdoms.ru/wiki/%D0%A2%D0%B8%D1%80%D0%B8%D0%BE%D0%BD_%D0%9B%D0%B0%D0%BD%D0%BD%D0%B8%D1%81%D1%82%D0%B5%D1%80\n",
      "Save texts to \"/src/app/settings/../../data/texts/7kingdoms_ru_wiki_%D0%A2%D0%B8%D1%80%D0%B8%D0%BE%D0%BD_%D0%9B%D0%B0%D0%BD%D0%BD%D0%B8%D1%81%D1%82%D0%B5%D1%80_00000\"\n",
      "(80) https://7kingdoms.ru/wiki/%D0%A1%D1%82%D0%B0%D1%80%D0%BA%D0%B8\n",
      "Save texts to \"/src/app/settings/../../data/texts/7kingdoms_ru_wiki_%D0%A1%D1%82%D0%B0%D1%80%D0%BA%D0%B8_00000\"\n",
      "(81) https://7kingdoms.ru/wiki/%D0%A1%D0%B0%D0%BD%D1%81%D0%B0_%D0%A1%D1%82%D0%B0%D1%80%D0%BA\n",
      "Save texts to \"/src/app/settings/../../data/texts/7kingdoms_ru_wiki_%D0%A1%D0%B0%D0%BD%D1%81%D0%B0_%D0%A1%D1%82%D0%B0%D1%80%D0%BA_00000\"\n",
      "(82) https://7kingdoms.ru/wiki/%D0%A2%D0%B0%D1%80%D0%B3%D0%B0%D1%80%D0%B8%D0%B5%D0%BD%D1%8B\n",
      "Save texts to \"/src/app/settings/../../data/texts/7kingdoms_ru_wiki_%D0%A2%D0%B0%D1%80%D0%B3%D0%B0%D1%80%D0%B8%D0%B5%D0%BD%D1%8B_00000\"\n",
      "(83) https://7kingdoms.ru/wiki/%D0%94%D0%B5%D0%B9%D0%BD%D0%B5%D1%80%D0%B8%D1%81_%D0%A2%D0%B0%D1%80%D0%B3%D0%B0%D1%80%D0%B8%D0%B5%D0%BD\n",
      "Save texts to \"/src/app/settings/../../data/texts/7kingdoms_ru_wiki_%D0%94%D0%B5%D0%B9%D0%BD%D0%B5%D1%80%D0%B8%D1%81_%D0%A2%D0%B0%D1%80%D0%B3%D0%B0%D1%80%D0%B8%D0%B5%D0%BD_00000\"\n",
      "(84) https://7kingdoms.ru/wiki/%D0%9B%D0%B0%D0%BD%D0%BD%D0%B8%D1%81%D1%82%D0%B5%D1%80%D1%8B\n",
      "Save texts to \"/src/app/settings/../../data/texts/7kingdoms_ru_wiki_%D0%9B%D0%B0%D0%BD%D0%BD%D0%B8%D1%81%D1%82%D0%B5%D1%80%D1%8B_00000\"\n",
      "(85) https://7kingdoms.ru/wiki/%D0%A1%D0%B5%D1%80%D1%81%D0%B5%D1%8F_%D0%9B%D0%B0%D0%BD%D0%BD%D0%B8%D1%81%D1%82%D0%B5%D1%80\n",
      "Save texts to \"/src/app/settings/../../data/texts/7kingdoms_ru_wiki_%D0%A1%D0%B5%D1%80%D1%81%D0%B5%D1%8F_%D0%9B%D0%B0%D0%BD%D0%BD%D0%B8%D1%81%D1%82%D0%B5%D1%80_00000\"\n",
      "(86) https://7kingdoms.ru/wiki/%D0%A2%D0%B0%D1%80%D0%B3%D0%B0%D1%80%D0%B8%D0%B5%D0%BD%D1%8B\n",
      "Save texts to \"/src/app/settings/../../data/texts/7kingdoms_ru_wiki_%D0%A2%D0%B0%D1%80%D0%B3%D0%B0%D1%80%D0%B8%D0%B5%D0%BD%D1%8B_00000\"\n",
      "(87) https://7kingdoms.ru/wiki/%D0%A0%D0%B5%D0%B9%D0%B3%D0%B0%D1%80_%D0%A2%D0%B0%D1%80%D0%B3%D0%B0%D1%80%D0%B8%D0%B5%D0%BD\n",
      "Save texts to \"/src/app/settings/../../data/texts/7kingdoms_ru_wiki_%D0%A0%D0%B5%D0%B9%D0%B3%D0%B0%D1%80_%D0%A2%D0%B0%D1%80%D0%B3%D0%B0%D1%80%D0%B8%D0%B5%D0%BD_00000\"\n",
      "(88) https://7kingdoms.ru/wiki/%D0%9C%D0%B0%D1%80%D1%82%D0%B5%D0%BB%D0%BB%D1%8B\n",
      "Save texts to \"/src/app/settings/../../data/texts/7kingdoms_ru_wiki_%D0%9C%D0%B0%D1%80%D1%82%D0%B5%D0%BB%D0%BB%D1%8B_00000\"\n",
      "(89) https://7kingdoms.ru/wiki/%D0%9E%D0%B1%D0%B5%D1%80%D0%B8%D0%BD_%D0%9C%D0%B0%D1%80%D1%82%D0%B5%D0%BB%D0%BB\n",
      "Save texts to \"/src/app/settings/../../data/texts/7kingdoms_ru_wiki_%D0%9E%D0%B1%D0%B5%D1%80%D0%B8%D0%BD_%D0%9C%D0%B0%D1%80%D1%82%D0%B5%D0%BB%D0%BB_00000\"\n",
      "(90) https://7kingdoms.ru/wiki/%D0%9B%D0%B0%D0%BD%D0%BD%D0%B8%D1%81%D1%82%D0%B5%D1%80%D1%8B\n",
      "Save texts to \"/src/app/settings/../../data/texts/7kingdoms_ru_wiki_%D0%9B%D0%B0%D0%BD%D0%BD%D0%B8%D1%81%D1%82%D0%B5%D1%80%D1%8B_00000\"\n",
      "(91) https://7kingdoms.ru/wiki/%D0%94%D0%B6%D0%B5%D0%B9%D0%BC%D0%B5_%D0%9B%D0%B0%D0%BD%D0%BD%D0%B8%D1%81%D1%82%D0%B5%D1%80\n",
      "Save texts to \"/src/app/settings/../../data/texts/7kingdoms_ru_wiki_%D0%94%D0%B6%D0%B5%D0%B9%D0%BC%D0%B5_%D0%9B%D0%B0%D0%BD%D0%BD%D0%B8%D1%81%D1%82%D0%B5%D1%80_00000\"\n",
      "(92) https://7kingdoms.ru/wiki/%D0%9A%D0%BB%D0%B8%D0%B3%D0%B0%D0%BD%D1%8B\n",
      "Save texts to \"/src/app/settings/../../data/texts/7kingdoms_ru_wiki_%D0%9A%D0%BB%D0%B8%D0%B3%D0%B0%D0%BD%D1%8B_00000\"\n",
      "(93) https://7kingdoms.ru/wiki/%D0%93%D1%80%D0%B8%D0%B3%D0%BE%D1%80_%D0%9A%D0%BB%D0%B8%D0%B3%D0%B0%D0%BD\n",
      "Save texts to \"/src/app/settings/../../data/texts/7kingdoms_ru_wiki_%D0%93%D1%80%D0%B8%D0%B3%D0%BE%D1%80_%D0%9A%D0%BB%D0%B8%D0%B3%D0%B0%D0%BD_00000\"\n",
      "(94) https://7kingdoms.ru/wiki/%D0%93%D1%80%D0%B5%D0%B9%D0%B4%D0%B6%D0%BE%D0%B8\n",
      "Save texts to \"/src/app/settings/../../data/texts/7kingdoms_ru_wiki_%D0%93%D1%80%D0%B5%D0%B9%D0%B4%D0%B6%D0%BE%D0%B8_00000\"\n",
      "(95) https://7kingdoms.ru/wiki/%D0%A2%D0%B5%D0%BE%D0%BD_%D0%93%D1%80%D0%B5%D0%B9%D0%B4%D0%B6%D0%BE%D0%B9\n",
      "Save texts to \"/src/app/settings/../../data/texts/7kingdoms_ru_wiki_%D0%A2%D0%B5%D0%BE%D0%BD_%D0%93%D1%80%D0%B5%D0%B9%D0%B4%D0%B6%D0%BE%D0%B9_00000\"\n",
      "(96) https://7kingdoms.ru/wiki/%D0%A1%D1%82%D0%B0%D1%80%D0%BA%D0%B8\n",
      "Save texts to \"/src/app/settings/../../data/texts/7kingdoms_ru_wiki_%D0%A1%D1%82%D0%B0%D1%80%D0%BA%D0%B8_00000\"\n",
      "(97) https://7kingdoms.ru/wiki/%D0%9B%D0%B8%D0%B0%D0%BD%D0%BD%D0%B0_%D0%A1%D1%82%D0%B0%D1%80%D0%BA\n",
      "Save texts to \"/src/app/settings/../../data/texts/7kingdoms_ru_wiki_%D0%9B%D0%B8%D0%B0%D0%BD%D0%BD%D0%B0_%D0%A1%D1%82%D0%B0%D1%80%D0%BA_00000\"\n",
      "(98) https://7kingdoms.ru/wiki/%D0%A2%D0%B0%D0%BB%D0%BB%D0%B8\n",
      "Save texts to \"/src/app/settings/../../data/texts/7kingdoms_ru_wiki_%D0%A2%D0%B0%D0%BB%D0%BB%D0%B8_00000\"\n",
      "(99) https://7kingdoms.ru/wiki/%D0%9A%D0%B5%D0%B9%D1%82%D0%B8%D0%BB%D0%B8%D0%BD_%D0%A1%D1%82%D0%B0%D1%80%D0%BA\n",
      "Save texts to \"/src/app/settings/../../data/texts/7kingdoms_ru_wiki_%D0%9A%D0%B5%D0%B9%D1%82%D0%B8%D0%BB%D0%B8%D0%BD_%D0%A1%D1%82%D0%B0%D1%80%D0%BA_00000\"\n",
      "(100) https://7kingdoms.ru/wiki/%D0%9B%D0%B0%D0%BD%D0%BD%D0%B8%D1%81%D1%82%D0%B5%D1%80%D1%8B\n",
      "Save texts to \"/src/app/settings/../../data/texts/7kingdoms_ru_wiki_%D0%9B%D0%B0%D0%BD%D0%BD%D0%B8%D1%81%D1%82%D0%B5%D1%80%D1%8B_00000\"\n",
      "(101) https://7kingdoms.ru/wiki/%D0%A2%D0%B0%D0%B9%D0%B2%D0%B8%D0%BD_%D0%9B%D0%B0%D0%BD%D0%BD%D0%B8%D1%81%D1%82%D0%B5%D1%80\n",
      "Save texts to \"/src/app/settings/../../data/texts/7kingdoms_ru_wiki_%D0%A2%D0%B0%D0%B9%D0%B2%D0%B8%D0%BD_%D0%9B%D0%B0%D0%BD%D0%BD%D0%B8%D1%81%D1%82%D0%B5%D1%80_00000\"\n",
      "(102) https://7kingdoms.ru/wiki/%D0%91%D0%B0%D1%80%D0%B0%D1%82%D0%B5%D0%BE%D0%BD%D1%8B\n",
      "Save texts to \"/src/app/settings/../../data/texts/7kingdoms_ru_wiki_%D0%91%D0%B0%D1%80%D0%B0%D1%82%D0%B5%D0%BE%D0%BD%D1%8B_00000\"\n",
      "(103) https://7kingdoms.ru/wiki/%D0%A1%D1%82%D0%B0%D0%BD%D0%BD%D0%B8%D1%81_%D0%91%D0%B0%D1%80%D0%B0%D1%82%D0%B5%D0%BE%D0%BD\n",
      "Save texts to \"/src/app/settings/../../data/texts/7kingdoms_ru_wiki_%D0%A1%D1%82%D0%B0%D0%BD%D0%BD%D0%B8%D1%81_%D0%91%D0%B0%D1%80%D0%B0%D1%82%D0%B5%D0%BE%D0%BD_00000\"\n",
      "(104) https://7kingdoms.ru/wiki/%D0%A1%D1%82%D0%B0%D1%80%D0%BA%D0%B8\n",
      "Save texts to \"/src/app/settings/../../data/texts/7kingdoms_ru_wiki_%D0%A1%D1%82%D0%B0%D1%80%D0%BA%D0%B8_00000\"\n",
      "(105) https://7kingdoms.ru/wiki/%D0%91%D1%80%D0%B0%D0%BD_%D0%A1%D1%82%D0%B0%D1%80%D0%BA\n",
      "Save texts to \"/src/app/settings/../../data/texts/7kingdoms_ru_wiki_%D0%91%D1%80%D0%B0%D0%BD_%D0%A1%D1%82%D0%B0%D1%80%D0%BA_00000\"\n",
      "(106) https://7kingdoms.ru/wiki/%D0%A1%D1%82%D0%B0%D1%80%D0%BA%D0%B8\n",
      "Save texts to \"/src/app/settings/../../data/texts/7kingdoms_ru_wiki_%D0%A1%D1%82%D0%B0%D1%80%D0%BA%D0%B8_00000\"\n",
      "(107) https://7kingdoms.ru/wiki/%D0%AD%D0%B4%D0%B4%D0%B0%D1%80%D0%B4_%D0%A1%D1%82%D0%B0%D1%80%D0%BA\n",
      "Save texts to \"/src/app/settings/../../data/texts/7kingdoms_ru_wiki_%D0%AD%D0%B4%D0%B4%D0%B0%D1%80%D0%B4_%D0%A1%D1%82%D0%B0%D1%80%D0%BA_00000\"\n",
      "(108) https://7kingdoms.ru/wiki/%D0%91%D0%B0%D1%80%D0%B0%D1%82%D0%B5%D0%BE%D0%BD%D1%8B\n",
      "Save texts to \"/src/app/settings/../../data/texts/7kingdoms_ru_wiki_%D0%91%D0%B0%D1%80%D0%B0%D1%82%D0%B5%D0%BE%D0%BD%D1%8B_00000\"\n",
      "(109) https://7kingdoms.ru/wiki/%D0%94%D0%B6%D0%BE%D1%84%D1%84%D1%80%D0%B8_%D0%91%D0%B0%D1%80%D0%B0%D1%82%D0%B5%D0%BE%D0%BD\n",
      "Save texts to \"/src/app/settings/../../data/texts/7kingdoms_ru_wiki_%D0%94%D0%B6%D0%BE%D1%84%D1%84%D1%80%D0%B8_%D0%91%D0%B0%D1%80%D0%B0%D1%82%D0%B5%D0%BE%D0%BD_00000\"\n",
      "(110) https://7kingdoms.ru/wiki/%D0%91%D0%BE%D0%BB%D1%82%D0%BE%D0%BD%D1%8B\n",
      "Save texts to \"/src/app/settings/../../data/texts/7kingdoms_ru_wiki_%D0%91%D0%BE%D0%BB%D1%82%D0%BE%D0%BD%D1%8B_00000\"\n",
      "(111) https://7kingdoms.ru/wiki/%D0%A0%D0%B0%D0%BC%D1%81%D0%B8_%D0%A1%D0%BD%D0%BE%D1%83\n",
      "Save texts to \"/src/app/settings/../../data/texts/7kingdoms_ru_wiki_%D0%A0%D0%B0%D0%BC%D1%81%D0%B8_%D0%A1%D0%BD%D0%BE%D1%83_00000\"\n",
      "(112) https://7kingdoms.ru/wiki/%D0%A2%D0%B8%D1%80%D0%B5%D0%BB%D0%BB%D1%8B\n",
      "Save texts to \"/src/app/settings/../../data/texts/7kingdoms_ru_wiki_%D0%A2%D0%B8%D1%80%D0%B5%D0%BB%D0%BB%D1%8B_00000\"\n",
      "(113) https://7kingdoms.ru/wiki/%D0%9C%D0%B0%D1%80%D0%B3%D0%B5%D1%80%D0%B8_%D0%A2%D0%B8%D1%80%D0%B5%D0%BB%D0%BB\n",
      "Save texts to \"/src/app/settings/../../data/texts/7kingdoms_ru_wiki_%D0%9C%D0%B0%D1%80%D0%B3%D0%B5%D1%80%D0%B8_%D0%A2%D0%B8%D1%80%D0%B5%D0%BB%D0%BB_00000\"\n",
      "(114) https://7kingdoms.ru/wiki/%D0%A2%D0%B0%D1%80%D1%82\n",
      "Save texts to \"/src/app/settings/../../data/texts/7kingdoms_ru_wiki_%D0%A2%D0%B0%D1%80%D1%82_00000\"\n",
      "(115) https://7kingdoms.ru/wiki/%D0%91%D1%80%D0%B8%D0%B5%D0%BD%D0%BD%D0%B0_%D0%A2%D0%B0%D1%80%D1%82\n",
      "Save texts to \"/src/app/settings/../../data/texts/7kingdoms_ru_wiki_%D0%91%D1%80%D0%B8%D0%B5%D0%BD%D0%BD%D0%B0_%D0%A2%D0%B0%D1%80%D1%82_00000\"\n",
      "(116) https://7kingdoms.ru/wiki/%D0%9C%D0%B8%D1%80_%D0%9B%D1%8C%D0%B4%D0%B0_%D0%B8_%D0%9F%D0%BB%D0%B0%D0%BC%D0%B5%D0%BD%D0%B8\n",
      "Save texts to \"/src/app/settings/../../data/texts/7kingdoms_ru_wiki_%D0%9C%D0%B8%D1%80_%D0%9B%D1%8C%D0%B4%D0%B0_%D0%B8_%D0%9F%D0%BB%D0%B0%D0%BC%D0%B5%D0%BD%D0%B8_00000\"\n",
      "(117) https://7kingdoms.ru/wiki/%D0%9F%D1%80%D0%B8%D0%BD%D1%86-%D0%A0%D0%B0%D0%B7%D0%B1%D0%BE%D0%B9%D0%BD%D0%B8%D0%BA\n",
      "Save texts to \"/src/app/settings/../../data/texts/7kingdoms_ru_wiki_%D0%9F%D1%80%D0%B8%D0%BD%D1%86_%D0%A0%D0%B0%D0%B7%D0%B1%D0%BE%D0%B9%D0%BD%D0%B8%D0%BA_00000\"\n",
      "(118) https://7kingdoms.ru/wiki/%D0%9F%D1%80%D0%B8%D0%BD%D1%86%D0%B5%D1%81%D1%81%D0%B0_%D0%B8_%D0%BA%D0%BE%D1%80%D0%BE%D0%BB%D0%B5%D0%B2%D0%B0\n",
      "Save texts to \"/src/app/settings/../../data/texts/7kingdoms_ru_wiki_%D0%9F%D1%80%D0%B8%D0%BD%D1%86%D0%B5%D1%81%D1%81%D0%B0_%D0%B8_%D0%BA%D0%BE%D1%80%D0%BE%D0%BB%D0%B5%D0%B2%D0%B0_00000\"\n",
      "(119) https://7kingdoms.ru/wiki/%D0%9F%D0%BB%D0%B0%D0%BC%D1%8F_%D0%B8_%D0%BA%D1%80%D0%BE%D0%B2%D1%8C\n",
      "Save texts to \"/src/app/settings/../../data/texts/7kingdoms_ru_wiki_%D0%9F%D0%BB%D0%B0%D0%BC%D1%8F_%D0%B8_%D0%BA%D1%80%D0%BE%D0%B2%D1%8C_00000\"\n",
      "(120) https://7kingdoms.ru/wiki/%D0%9C%D0%B5%D0%B6%D0%B5%D0%B2%D0%BE%D0%B9_%D1%80%D1%8B%D1%86%D0%B0%D1%80%D1%8C\n",
      "Save texts to \"/src/app/settings/../../data/texts/7kingdoms_ru_wiki_%D0%9C%D0%B5%D0%B6%D0%B5%D0%B2%D0%BE%D0%B9_%D1%80%D1%8B%D1%86%D0%B0%D1%80%D1%8C_00000\"\n",
      "(121) https://7kingdoms.ru/wiki/%D0%9F%D1%80%D0%B8%D1%81%D1%8F%D0%B6%D0%BD%D1%8B%D0%B9_%D1%80%D1%8B%D1%86%D0%B0%D1%80%D1%8C\n",
      "Save texts to \"/src/app/settings/../../data/texts/7kingdoms_ru_wiki_%D0%9F%D1%80%D0%B8%D1%81%D1%8F%D0%B6%D0%BD%D1%8B%D0%B9_%D1%80%D1%8B%D1%86%D0%B0%D1%80%D1%8C_00000\"\n",
      "(122) https://7kingdoms.ru/wiki/%D0%A2%D0%B0%D0%B8%D0%BD%D1%81%D1%82%D0%B2%D0%B5%D0%BD%D0%BD%D1%8B%D0%B9_%D1%80%D1%8B%D1%86%D0%B0%D1%80%D1%8C\n",
      "Save texts to \"/src/app/settings/../../data/texts/7kingdoms_ru_wiki_%D0%A2%D0%B0%D0%B8%D0%BD%D1%81%D1%82%D0%B2%D0%B5%D0%BD%D0%BD%D1%8B%D0%B9_%D1%80%D1%8B%D1%86%D0%B0%D1%80%D1%8C_00000\"\n",
      "(123) https://7kingdoms.ru/wiki/%D0%9F%D0%BE%D1%80%D1%82%D0%B0%D0%BB:%D0%A6%D0%B8%D0%BA%D0%BB_%D0%9F%D0%B5%D1%81%D0%BD%D1%8C_%D0%9B%D1%8C%D0%B4%D0%B0_%D0%B8_%D0%9F%D0%BB%D0%B0%D0%BC%D0%B5%D0%BD%D0%B8\n",
      "Save texts to \"/src/app/settings/../../data/texts/7kingdoms_ru_wiki_%D0%9F%D0%BE%D1%80%D1%82%D0%B0%D0%BB:%D0%A6%D0%B8%D0%BA%D0%BB_%D0%9F%D0%B5%D1%81%D0%BD%D1%8C_%D0%9B%D1%8C%D0%B4%D0%B0_%D0%B8_%D0%9F%D0%BB%D0%B0%D0%BC%D0%B5%D0%BD%D0%B8_00000\"\n",
      "(124) https://7kingdoms.ru/wiki/%D0%AD%D0%B4%D0%B4%D0%B0%D1%80%D0%B4_%D0%A1%D1%82%D0%B0%D1%80%D0%BA\n",
      "Save texts to \"/src/app/settings/../../data/texts/7kingdoms_ru_wiki_%D0%AD%D0%B4%D0%B4%D0%B0%D1%80%D0%B4_%D0%A1%D1%82%D0%B0%D1%80%D0%BA_00000\"\n",
      "(125) https://7kingdoms.ru/wiki/%D0%A1%D1%82%D0%B0%D1%80%D0%BA%D0%B8\n",
      "Save texts to \"/src/app/settings/../../data/texts/7kingdoms_ru_wiki_%D0%A1%D1%82%D0%B0%D1%80%D0%BA%D0%B8_00000\"\n",
      "(126) https://7kingdoms.ru/wiki/%D0%9A%D1%80%D0%B8%D0%B3%D0%B0%D0%BD_%D0%A1%D1%82%D0%B0%D1%80%D0%BA\n",
      "Save texts to \"/src/app/settings/../../data/texts/7kingdoms_ru_wiki_%D0%9A%D1%80%D0%B8%D0%B3%D0%B0%D0%BD_%D0%A1%D1%82%D0%B0%D1%80%D0%BA_00000\"\n",
      "(127) https://7kingdoms.ru/wiki/%D0%94%D0%B5%D1%81%D0%BD%D0%B8%D1%86%D0%B0\n",
      "Save texts to \"/src/app/settings/../../data/texts/7kingdoms_ru_wiki_%D0%94%D0%B5%D1%81%D0%BD%D0%B8%D1%86%D0%B0_00000\"\n",
      "(128) https://7kingdoms.ru/wiki/%D0%96%D0%B8%D0%B2%D0%BE%D1%82%D0%BD%D1%8B%D0%B5\n",
      "Save texts to \"/src/app/settings/../../data/texts/7kingdoms_ru_wiki_%D0%96%D0%B8%D0%B2%D0%BE%D1%82%D0%BD%D1%8B%D0%B5_00000\"\n",
      "(129) https://7kingdoms.ru/wiki/%D0%9B%D0%B0%D0%BD%D0%BD%D0%B8%D1%81%D1%82%D0%B5%D1%80%D1%8B\n",
      "Save texts to \"/src/app/settings/../../data/texts/7kingdoms_ru_wiki_%D0%9B%D0%B0%D0%BD%D0%BD%D0%B8%D1%81%D1%82%D0%B5%D1%80%D1%8B_00000\"\n",
      "(130) https://7kingdoms.ru/wiki/%D0%97%D0%B0%D0%BF%D0%B0%D0%B4%D0%BD%D1%8B%D0%B5_%D0%B7%D0%B5%D0%BC%D0%BB%D0%B8\n",
      "Save texts to \"/src/app/settings/../../data/texts/7kingdoms_ru_wiki_%D0%97%D0%B0%D0%BF%D0%B0%D0%B4%D0%BD%D1%8B%D0%B5_%D0%B7%D0%B5%D0%BC%D0%BB%D0%B8_00000\"\n",
      "(131) https://7kingdoms.ru/wiki/%D0%A2%D0%B8%D1%82%D0%BE%D1%81_%D0%9B%D0%B0%D0%BD%D0%BD%D0%B8%D1%81%D1%82%D0%B5%D1%80\n",
      "Save texts to \"/src/app/settings/../../data/texts/7kingdoms_ru_wiki_%D0%A2%D0%B8%D1%82%D0%BE%D1%81_%D0%9B%D0%B0%D0%BD%D0%BD%D0%B8%D1%81%D1%82%D0%B5%D1%80_00000\"\n",
      "(132) https://7kingdoms.ru/wiki/%D0%A3%D0%BE%D0%BB%D0%B4%D0%B5%D1%80_%D0%A4%D1%80%D0%B5%D0%B9\n",
      "Save texts to \"/src/app/settings/../../data/texts/7kingdoms_ru_wiki_%D0%A3%D0%BE%D0%BB%D0%B4%D0%B5%D1%80_%D0%A4%D1%80%D0%B5%D0%B9_00000\"\n",
      "(133) https://7kingdoms.ru/wiki/%D0%A2%D0%B0%D0%B8%D0%BD%D1%81%D1%82%D0%B2%D0%B5%D0%BD%D0%BD%D1%8B%D0%B9_%D1%80%D1%8B%D1%86%D0%B0%D1%80%D1%8C\n",
      "Save texts to \"/src/app/settings/../../data/texts/7kingdoms_ru_wiki_%D0%A2%D0%B0%D0%B8%D0%BD%D1%81%D1%82%D0%B2%D0%B5%D0%BD%D0%BD%D1%8B%D0%B9_%D1%80%D1%8B%D1%86%D0%B0%D1%80%D1%8C_00000\"\n",
      "(134) https://7kingdoms.ru/wiki/%D0%98%D0%B3%D1%80%D0%B0_%D0%BF%D1%80%D0%B5%D1%81%D1%82%D0%BE%D0%BB%D0%BE%D0%B2\n",
      "Save texts to \"/src/app/settings/../../data/texts/7kingdoms_ru_wiki_%D0%98%D0%B3%D1%80%D0%B0_%D0%BF%D1%80%D0%B5%D1%81%D1%82%D0%BE%D0%BB%D0%BE%D0%B2_00000\"\n",
      "(135) https://7kingdoms.ru/wiki/%D0%91%D0%BB%D1%8D%D0%BA%D0%B2%D1%83%D0%B4%D1%8B\n",
      "Save texts to \"/src/app/settings/../../data/texts/7kingdoms_ru_wiki_%D0%91%D0%BB%D1%8D%D0%BA%D0%B2%D1%83%D0%B4%D1%8B_00000\"\n",
      "(136) https://7kingdoms.ru/wiki/%D0%A1%D1%82%D0%B0%D1%80%D1%8B%D0%B5_%D0%B1%D0%BE%D0%B3%D0%B8\n",
      "Save texts to \"/src/app/settings/../../data/texts/7kingdoms_ru_wiki_%D0%A1%D1%82%D0%B0%D1%80%D1%8B%D0%B5_%D0%B1%D0%BE%D0%B3%D0%B8_00000\"\n",
      "(137) https://7kingdoms.ru/wiki/%D0%92%D0%B5%D1%80%D0%B0_%D0%B2_%D0%A1%D0%B5%D0%BC%D0%B5%D1%80%D1%8B%D1%85\n",
      "Save texts to \"/src/app/settings/../../data/texts/7kingdoms_ru_wiki_%D0%92%D0%B5%D1%80%D0%B0_%D0%B2_%D0%A1%D0%B5%D0%BC%D0%B5%D1%80%D1%8B%D1%85_00000\"\n",
      "(138) https://7kingdoms.ru/wiki/%D0%9C%D0%B0%D0%BD%D0%B4%D0%B5%D1%80%D0%BB%D0%B8\n",
      "Save texts to \"/src/app/settings/../../data/texts/7kingdoms_ru_wiki_%D0%9C%D0%B0%D0%BD%D0%B4%D0%B5%D1%80%D0%BB%D0%B8_00000\"\n",
      "(139) https://7kingdoms.ru/wiki/%D0%A1%D1%82%D0%B5%D0%BD%D0%B0\n",
      "Save texts to \"/src/app/settings/../../data/texts/7kingdoms_ru_wiki_%D0%A1%D1%82%D0%B5%D0%BD%D0%B0_00000\"\n",
      "(140) https://7kingdoms.ru/wiki/%D0%AF%D0%B7%D1%8B%D0%BA%D0%B8\n",
      "Save texts to \"/src/app/settings/../../data/texts/7kingdoms_ru_wiki_%D0%AF%D0%B7%D1%8B%D0%BA%D0%B8_00000\"\n",
      "(141) https://7kingdoms.ru/wiki/%D0%92%D0%B5%D1%81%D1%82%D0%B5%D1%80%D0%BE%D1%81\n",
      "Save texts to \"/src/app/settings/../../data/texts/7kingdoms_ru_wiki_%D0%92%D0%B5%D1%81%D1%82%D0%B5%D1%80%D0%BE%D1%81_00000\"\n",
      "(142) https://7kingdoms.ru/wiki/%D0%A1%D0%BB%D1%83%D0%B6%D0%B5%D0%B1%D0%BD%D0%B0%D1%8F:%D0%A1%D1%82%D0%B0%D1%82%D0%B8%D1%81%D1%82%D0%B8%D0%BA%D0%B0\n",
      "Save texts to \"/src/app/settings/../../data/texts/7kingdoms_ru_wiki_%D0%A1%D0%BB%D1%83%D0%B6%D0%B5%D0%B1%D0%BD%D0%B0%D1%8F:%D0%A1%D1%82%D0%B0%D1%82%D0%B8%D1%81%D1%82%D0%B8%D0%BA%D0%B0_00000\"\n",
      "(143) https://7kingdoms.ru/wiki/%D0%A1%D0%BB%D1%83%D0%B6%D0%B5%D0%B1%D0%BD%D0%B0%D1%8F:NewestPages\n",
      "Save texts to \"/src/app/settings/../../data/texts/7kingdoms_ru_wiki_%D0%A1%D0%BB%D1%83%D0%B6%D0%B5%D0%B1%D0%BD%D0%B0%D1%8F:NewestPages_00000\"\n",
      "(144) https://7kingdoms.ru/wiki/%D0%A1%D0%BB%D1%83%D0%B6%D0%B5%D0%B1%D0%BD%D0%B0%D1%8F:%D0%A1%D0%B2%D0%B5%D0%B6%D0%B8%D0%B5_%D0%BF%D1%80%D0%B0%D0%B2%D0%BA%D0%B8\n",
      "Save texts to \"/src/app/settings/../../data/texts/7kingdoms_ru_wiki_%D0%A1%D0%BB%D1%83%D0%B6%D0%B5%D0%B1%D0%BD%D0%B0%D1%8F:%D0%A1%D0%B2%D0%B5%D0%B6%D0%B8%D0%B5_%D0%BF%D1%80%D0%B0%D0%B2%D0%BA%D0%B8_00000\"\n",
      "(145) https://7kingdoms.ru/wiki/%D0%A1%D0%BB%D1%83%D0%B6%D0%B5%D0%B1%D0%BD%D0%B0%D1%8F:%D0%A2%D1%80%D0%B5%D0%B1%D1%83%D0%B5%D0%BC%D1%8B%D0%B5_%D1%81%D1%82%D1%80%D0%B0%D0%BD%D0%B8%D1%86%D1%8B\n",
      "Save texts to \"/src/app/settings/../../data/texts/7kingdoms_ru_wiki_%D0%A1%D0%BB%D1%83%D0%B6%D0%B5%D0%B1%D0%BD%D0%B0%D1%8F:%D0%A2%D1%80%D0%B5%D0%B1%D1%83%D0%B5%D0%BC%D1%8B%D0%B5_%D1%81%D1%82%D1%80%D0%B0%D0%BD%D0%B8%D1%86%D1%8B_00000\"\n",
      "(146) https://7kingdoms.ru/wiki/%D0%9A%D0%B0%D1%82%D0%B5%D0%B3%D0%BE%D1%80%D0%B8%D1%8F:%D0%94%D0%BE%D0%BF%D0%BE%D0%BB%D0%BD%D0%B8%D1%82%D1%8C\n",
      "Save texts to \"/src/app/settings/../../data/texts/7kingdoms_ru_wiki_%D0%9A%D0%B0%D1%82%D0%B5%D0%B3%D0%BE%D1%80%D0%B8%D1%8F:%D0%94%D0%BE%D0%BF%D0%BE%D0%BB%D0%BD%D0%B8%D1%82%D1%8C_00000\"\n",
      "(147) https://7kingdoms.ru/wiki/%D0%A4%D0%B0%D0%B9%D0%BB:Cover_ASOIAF_wiki.jpg\n",
      "Save texts to \"/src/app/settings/../../data/texts/7kingdoms_ru_wiki_%D0%A4%D0%B0%D0%B9%D0%BB:Cover_ASOIAF_wiki_jpg_00000\"\n",
      "(148) https://7kingdoms.ru/wiki/%D0%A4%D0%B0%D0%B9%D0%BB:Cover_ASOIAF_wiki.jpg\n",
      "Save texts to \"/src/app/settings/../../data/texts/7kingdoms_ru_wiki_%D0%A4%D0%B0%D0%B9%D0%BB:Cover_ASOIAF_wiki_jpg_00000\"\n",
      "(149) https://7kingdoms.ru/wiki/%D0%A1%D0%BB%D1%83%D0%B6%D0%B5%D0%B1%D0%BD%D0%B0%D1%8F:%D0%92%D1%85%D0%BE%D0%B4\n",
      "Save texts to \"/src/app/settings/../../data/texts/7kingdoms_ru_wiki_%D0%A1%D0%BB%D1%83%D0%B6%D0%B5%D0%B1%D0%BD%D0%B0%D1%8F:%D0%92%D1%85%D0%BE%D0%B4_00000\"\n",
      "(150) https://7kingdoms.ru/wiki/%D0%A1%D0%BF%D1%80%D0%B0%D0%B2%D0%BA%D0%B0:%D0%A1%D0%BE%D0%B4%D0%B5%D1%80%D0%B6%D0%B0%D0%BD%D0%B8%D0%B5\n",
      "Save texts to \"/src/app/settings/../../data/texts/7kingdoms_ru_wiki_%D0%A1%D0%BF%D1%80%D0%B0%D0%B2%D0%BA%D0%B0:%D0%A1%D0%BE%D0%B4%D0%B5%D1%80%D0%B6%D0%B0%D0%BD%D0%B8%D0%B5_00000\"\n",
      "(151) https://7kingdoms.ru/wiki/%D0%A1%D0%BF%D1%80%D0%B0%D0%B2%D0%BA%D0%B0:%D0%A1%D0%BE%D0%B4%D0%B5%D1%80%D0%B6%D0%B0%D0%BD%D0%B8%D0%B5#.D0.91.D0.BE.D0.BB.D1.8C.D1.88.D0.B8.D0.B5_.D0.BF.D1.80.D0.BE.D0.B5.D0.BA.D1.82.D1.8B\n",
      "Save texts to \"/src/app/settings/../../data/texts/7kingdoms_ru_wiki_%D0%A1%D0%BF%D1%80%D0%B0%D0%B2%D0%BA%D0%B0:%D0%A1%D0%BE%D0%B4%D0%B5%D1%80%D0%B6%D0%B0%D0%BD%D0%B8%D0%B5_D0_91_D0_BE_D0_BB_D1_8C_D1_88_D0_B8_D0_B5__D0_BF_D1_80_D0_BE_D0_B5_D0_BA_D1_82_D1_8B_00000\"\n",
      "(152) https://7kingdoms.ru/wiki/%D0%A8%D0%B0%D0%B1%D0%BB%D0%BE%D0%BD:%D0%9D%D0%BE%D0%B2%D0%BE%D1%81%D1%82%D0%B8\n",
      "Save texts to \"/src/app/settings/../../data/texts/7kingdoms_ru_wiki_%D0%A8%D0%B0%D0%B1%D0%BB%D0%BE%D0%BD:%D0%9D%D0%BE%D0%B2%D0%BE%D1%81%D1%82%D0%B8_00000\"\n",
      "(153) https://7kingdoms.ru/wiki/ПЛИОпедия:Описание\n",
      "Invalid url: https://7kingdoms.ru/wiki/ПЛИОпедия:Описание\n",
      "(154) https://7kingdoms.ru/wiki/ПЛИОпедия:Отказ_от_ответственности\n",
      "Invalid url: https://7kingdoms.ru/wiki/ПЛИОпедия:Отказ_от_ответственности\n",
      "Iterate over 153 saved texts\n"
     ]
    }
   ],
   "source": [
    "ph = PageHandler(URL)"
   ]
  },
  {
   "cell_type": "markdown",
   "metadata": {
    "deletable": true,
    "editable": true
   },
   "source": [
    "# Частотная\n",
    "\n",
    "Baseline модель.\n",
    "\n",
    "Чистит текст от мусора, приводит слова к единой форме и ищет параграф, в котором слова из вопроса встречаются чаще всего. Количество общих слов считаем как размер пересечения множеств слов; повторы слов не учитываются."
   ]
  },
  {
   "cell_type": "code",
   "execution_count": 5,
   "metadata": {
    "collapsed": true,
    "deletable": true,
    "editable": true
   },
   "outputs": [],
   "source": [
    "frequency_qa = FrequencyQA(ph)"
   ]
  },
  {
   "cell_type": "code",
   "execution_count": 6,
   "metadata": {
    "collapsed": false,
    "deletable": true,
    "editable": true
   },
   "outputs": [
    {
     "name": "stdout",
     "output_type": "stream",
     "text": [
      "«таргариенство» тириона, с точки зрения поклонников этой теории, усиливает его позицию как одной из трех «голов дракона», упомянутых в предсказании дома бессмертных. тирион — один из самых значимых персонажей саги, так что было бы соблазнительно ввести его в состав этой триады. аналогичным образом, еще одной «головой» многие читатели считают другого ключевого персонажа — джона сноу, также подозреваемого в принадлежности к таргариенам (родители джона сноу). мартин, правда, отвечая на вопросы читателей, говорил, что «головы» не обязаны быть таргариенами.\n",
      "\n",
      "\n",
      "в братстве арья знакомится с оруженосцем лорда берика – эдриком дейном, молодым лордом звездопада. она проникается симпатией к молодому оруженосцу. эдрик рассказывает арье, что джон сноу его молочный брат. кормилица эдрика – вилла – является родной матерью джона. также он рассказывает арье историю о своей тетке эшаре дейн. он говорит, что эшара и отец арьи любили друг друга. арью крайне разозлили такие слова, она говорит, что ее отец не любил никого кроме ее леди-матери. она обиженно уезжает, но ее настигает харвин и говорит, что все это было очень давно, до того как ее родители поженились.\n",
      "\n",
      "\n"
     ]
    }
   ],
   "source": [
    "results = frequency_qa.n_closest_paragraphs(question, n=2)\n",
    "print_results(results)"
   ]
  },
  {
   "cell_type": "markdown",
   "metadata": {
    "deletable": true,
    "editable": true
   },
   "source": [
    "# Tf-Idf\n",
    "\n",
    "Основана на <a, href=https://ru.wikipedia.org/wiki/TF-IDF> Tf-idf </a>.\n",
    "\n",
    "Коллекция для подсчета статистик это набор параграфов, а метрика между вопросом и документом считается как сумма tf-idf слов из воспроса для документа. Лучшими считаются абзацы с наибольшей метрикой."
   ]
  },
  {
   "cell_type": "code",
   "execution_count": 7,
   "metadata": {
    "collapsed": true,
    "deletable": true,
    "editable": true
   },
   "outputs": [],
   "source": [
    "tfidf_qa = PHTfIdfQA(ph)"
   ]
  },
  {
   "cell_type": "code",
   "execution_count": 8,
   "metadata": {
    "collapsed": false,
    "deletable": true,
    "editable": true
   },
   "outputs": [
    {
     "name": "stdout",
     "output_type": "stream",
     "text": [
      "обещанный принц: если верна популярная версия о том, что настоящие родители джона сноу — рейгар таргариен и лианна старк, джон принадлежит к наследникам эйриса и рейлы, в добавок ко всему до завоевания вестероса старки были королями северных земель.\n",
      "\n",
      "\n",
      "джон сноу — один из ключевых повов серии, незаконнорождённый сын эддарда старка и неизвестной женщины, единокровный брат законных детей лорда старка — робба, сансы, брана, арьи и рикона; брат ночного дозора и впоследствии его лорд-командующий. хотя джон был введён в повествование как бастард эддарда старка, неизвестно, кем была его мать; более того, возможно, что эддард лишь выдаёт джона за своего бастарда, а отцом был кто-то другой (см. родители джона сноу).\n",
      "\n",
      "\n"
     ]
    }
   ],
   "source": [
    "results = tfidf_qa.n_closest_paragraphs(question, n=2)\n",
    "print_results(results)"
   ]
  },
  {
   "cell_type": "markdown",
   "metadata": {
    "deletable": true,
    "editable": true
   },
   "source": [
    "# Improved Tf-Idf\n",
    "\n",
    "Улучшение предыдущей модели.\n",
    "\n",
    "Алгоритм работает в два шага. На первом он вычисляет наиболее релевантные страницы, затем из них находит лучшие абзацы. Каждый шаг выполняет тот же алгоритм, что и в предыдущей модели. На первом коллекция — тексты страниц, на втором — абзацы лучших страниц."
   ]
  },
  {
   "cell_type": "code",
   "execution_count": 9,
   "metadata": {
    "collapsed": true,
    "deletable": true,
    "editable": true
   },
   "outputs": [],
   "source": [
    "tfidf2_qa = TfIdf2stepQA(ph, n_best_pages=5)"
   ]
  },
  {
   "cell_type": "code",
   "execution_count": 10,
   "metadata": {
    "collapsed": false,
    "deletable": true,
    "editable": true
   },
   "outputs": [
    {
     "name": "stdout",
     "output_type": "stream",
     "text": [
      "джон сноу — один из ключевых повов серии, незаконнорождённый сын эддарда старка и неизвестной женщины, единокровный брат законных детей лорда старка — робба, сансы, брана, арьи и рикона; брат ночного дозора и впоследствии его лорд-командующий. хотя джон был введён в повествование как бастард эддарда старка, неизвестно, кем была его мать; более того, возможно, что эддард лишь выдаёт джона за своего бастарда, а отцом был кто-то другой (см. родители джона сноу).\n",
      "\n",
      "\n",
      "люди гремучей рубашки доставляют джона сноу и призрака в огромный стан одичалых. сноу встречается с мансом и тот решает оставить его в лагере.\n",
      "\n",
      "\n"
     ]
    }
   ],
   "source": [
    "results = tfidf2_qa.n_closest_paragraphs(question, n=2)\n",
    "print_results(results)"
   ]
  },
  {
   "cell_type": "markdown",
   "metadata": {
    "deletable": true,
    "editable": true
   },
   "source": [
    "# Word2Vec\n",
    "\n",
    "Модель основана на статье: http://nlp.cs.aueb.gr/pubs/BioNLP_2016_BioIR.pdf. \n",
    "\n",
    "В каждом параграфе считается центроид по следующей формуле: \n",
    "\n",
    "$$\\overrightarrow{t} = \\frac{\\sum\\limits_{j=1}^{|V|} \\overrightarrow{w_j}\\cdot \\text{TF}(w_j, t) \\cdot \\text{IFD}(w_j)}{\\sum\\limits_{j=1}^{|V|} \\text{TF}(w_j, t) \\cdot \\text{IFD}(w_j)}$$\n",
    "\n",
    "где $\\overrightarrow{t}$ — центроид параграфа, $t$ — параграф, $w_j$ — j-тое слово в нём, $\\overrightarrow{w_j}$ - представление слова* $w_j$, $V$ — словарь.\n",
    "\n",
    "Алгоритм считает средний вектор слов в вопросе. После этого, находит $k$ ближайших к вопросу параграфов по расстоянию между центроидами. Эти $k$ параграфов сортируются по увеличению word-mover's distance до вопроса. Первые $n$ из них это ответ.\n",
    "\n",
    "*Представления слов взяты с сайта http://rusvectores.org"
   ]
  },
  {
   "cell_type": "code",
   "execution_count": 11,
   "metadata": {
    "collapsed": false,
    "deletable": true,
    "editable": true
   },
   "outputs": [
    {
     "name": "stderr",
     "output_type": "stream",
     "text": [
      "Installing mystem to /root/.local/bin/mystem from http://download.cdn.yandex.net/mystem/mystem-3.0-linux3.1-64bit.tar.gz\n"
     ]
    }
   ],
   "source": [
    "w2v_qa = W2VQA(ph)"
   ]
  },
  {
   "cell_type": "code",
   "execution_count": 12,
   "metadata": {
    "collapsed": false,
    "deletable": true,
    "editable": true
   },
   "outputs": [
    {
     "name": "stdout",
     "output_type": "stream",
     "text": [
      "обещанный принц: если верна популярная версия о том, что настоящие родители джона сноу — рейгар таргариен и лианна старк, джон принадлежит к наследникам эйриса и рейлы, в добавок ко всему до завоевания вестероса старки были королями северных земель.\n",
      "\n",
      "\n",
      "наиболее близкие отношения у арьи сложились с ее единокровным братом джоном. арья очень похожа на брата, который в свою очередь копия неда. джон считает, что арья, как и он, «всегда оказывалась не там, где надо»[5]. только арья могла рассмешить джона[5]. теплые отношения между братом и сестрой показаны на протяжении всех книг. и арья, и джон вспоминают друг о друге чаще всего.\n",
      "\n",
      "\n"
     ]
    }
   ],
   "source": [
    "results = w2v_qa.n_closest_paragraphs(question, n=2)\n",
    "print_results(results)"
   ]
  },
  {
   "cell_type": "markdown",
   "metadata": {
    "deletable": true,
    "editable": true
   },
   "source": [
    "Чуть больше примеров"
   ]
  },
  {
   "cell_type": "code",
   "execution_count": 13,
   "metadata": {
    "collapsed": false,
    "deletable": true,
    "editable": true
   },
   "outputs": [
    {
     "name": "stdout",
     "output_type": "stream",
     "text": [
      "Как называются семь ликов единого божества в вере в Семерых?:\n",
      "\n",
      "MODEL: frequency RESULT: вера в семерых является самой распространенной и официальной религией объединенного вестероса. это религия андалов, принесенная ими в вестерос тысячи лет назад и распространившаяся повсеместно. лишь на севере и железных островах удерживают свои позиции другие, более древние религии. семеро — отец, матерь, дева, старица, кузнец, воин и неведомый — не семь разных божеств, а семь ликов одного единого божества, которым, однако, поклоняются по отдельности. вера в семерых проповедует милосердие, аскетизм, бренность земной жизни, справедливость и воздаяние за грехи. число 7 является священным для этой веры, и ее служители используют в качестве символов звезду с семью лучами и кристалл с семью гранями.\n",
      "MODEL: TF_IDF RESULT: вера в семерых является самой распространенной и официальной религией объединенного вестероса. это религия андалов, принесенная ими в вестерос тысячи лет назад и распространившаяся повсеместно. лишь на севере и железных островах удерживают свои позиции другие, более древние религии. семеро — отец, матерь, дева, старица, кузнец, воин и неведомый — не семь разных божеств, а семь ликов одного единого божества, которым, однако, поклоняются по отдельности. вера в семерых проповедует милосердие, аскетизм, бренность земной жизни, справедливость и воздаяние за грехи. число 7 является священным для этой веры, и ее служители используют в качестве символов звезду с семью лучами и кристалл с семью гранями.\n",
      "MODEL: 2StepTFIDF RESULT: вера в семерых является самой распространенной и официальной религией объединенного вестероса. это религия андалов, принесенная ими в вестерос тысячи лет назад и распространившаяся повсеместно. лишь на севере и железных островах удерживают свои позиции другие, более древние религии. семеро — отец, матерь, дева, старица, кузнец, воин и неведомый — не семь разных божеств, а семь ликов одного единого божества, которым, однако, поклоняются по отдельности. вера в семерых проповедует милосердие, аскетизм, бренность земной жизни, справедливость и воздаяние за грехи. число 7 является священным для этой веры, и ее служители используют в качестве символов звезду с семью лучами и кристалл с семью гранями.\n",
      "MODEL: W2V RESULT: роберт аррен, по прозвищу зяблик — мальчик восьми лет. единственный сын джона и лизы, после смерти отца — верховный лорд долины.\n",
      "\n",
      "\n",
      "Сколько на самом деле королевств в Вестеросе?:\n",
      "\n",
      "MODEL: frequency RESULT: в фольклоре семи королевств появляются также великаны, иные, упыри и оборотни, но все они на самом деле существуют и в реальности: великаны и иные — нечеловеческие расы, упыри — оживленные иными мертвецы, оборотни — телепаты, способные устанавливать связь с животными.\n",
      "MODEL: TF_IDF RESULT: рамси дал теону новое имя — вонючка, в честь своего прежнего слуги, и жестоко наказывал его каждый раз, когда он забывал, кто он есть на самом деле. в конце концов, он лишился части зубов, пальцев на руках и ногах, его волосы поседели, он вынужден был питаться крысами, которых мог поймать в камере и с ужасом вспоминал о том, кто он есть на самом деле, т.к. за это могло последовать жестокое наказание. для того, чтобы освободить проход войску отца, рамси приказал вонючке от лица теона грейджоя убедить островитян, удерживающих ров кейлин, сдать крепость миром. когда железные люди вышли на милость рамси, тот накормил их и после зверски убил. в благодарность за хорошую игру, рамси удостоил вонючку чести жить вместе со своими собаками.[30]\n",
      "MODEL: 2StepTFIDF RESULT: семь королевств - официальное название государства на континенте вестерос, ограниченного с севера стеной, а запада, юга и севера морями. архаичное название «семь королевств» сохраняется по старой памяти, хотя по факту королевство в вестеросе только одно. столица семи королевств расположена в королевской гавани и правит страной король на железном троне.\n",
      "MODEL: W2V RESULT: у арренов есть несколько младших ветвей, живущих в разных местах долины; самые богатые, но и самые презираемые из-за браков с невестами из купеческого сословия — аррены из чаячьего города.\n",
      "\n",
      "\n",
      "Какой из храмов Рглора самый большой?:\n",
      "\n",
      "MODEL: frequency RESULT: в вестеросе вера в рглора распространяется с трудом, и красных храмов в семи королевствах мало. один из таких храмов есть в староместе[11], еще один или несколько — в дорне: обара сэнд упоминала, что в связи с убийством оберина мартелла «красные жрецы зажгли храмовые костры»[23].\n",
      "MODEL: TF_IDF RESULT: мартин подтверждал, что мальчишка из «таинственного рыцаря» — тот самый лорд фрей из основной серии[2].\n",
      "MODEL: 2StepTFIDF RESULT: в вестеросе вера в рглора распространяется с трудом, и красных храмов в семи королевствах мало. один из таких храмов есть в староместе[11], еще один или несколько — в дорне: обара сэнд упоминала, что в связи с убийством оберина мартелла «красные жрецы зажгли храмовые костры»[23].\n",
      "MODEL: W2V RESULT: у арренов есть несколько младших ветвей, живущих в разных местах долины; самые богатые, но и самые презираемые из-за браков с невестами из купеческого сословия — аррены из чаячьего города.\n",
      "\n",
      "\n",
      "Что такое десница короля?:\n",
      "\n",
      "MODEL: frequency RESULT: брандон старк также был на пути в риверран, на собственную свадьбу с кейтилин талли, когда лианну похитили. он сразу же поехал в королевскую гавань, полагая, что рейгар удерживает лианну именно там. прибыв в красный замок, он кричал, что бы рейгар «вышел и умер». король эйрис незамедлительно отреагировал на такое заявление: брандон, его спутники и их отцы были казнены. уцелеть удалось только этану гловеру. затем эйрис потребовал джона аррена выдать ему эддарда и роберта. в ответ аррен поднял знамена против короля. началась гражданская война, получившая название «мятеж роберта»[13].\n",
      "MODEL: TF_IDF RESULT: десница короля (англ. hand of the king) — государственная должность в семи королевствах. десница — это второе лицо в государстве после короля, служащий ему главным советником, исполнителем королевской воли и, в некоторых случаях, даже заместителем — в отсутствие короля десница может восседать на железном троне и говорить от королевского имени.\n",
      "MODEL: 2StepTFIDF RESULT: десница короля (англ. hand of the king) — государственная должность в семи королевствах. десница — это второе лицо в государстве после короля, служащий ему главным советником, исполнителем королевской воли и, в некоторых случаях, даже заместителем — в отсутствие короля десница может восседать на железном троне и говорить от королевского имени.\n",
      "MODEL: W2V RESULT: когда харис свифт прибывает в браавос для переговоров с железным банком, актеры театра играют на сцене «кровавого десницу». пьеса рассказывает о пребывании тириона ланнистера на посту десницы короля джоффри. мерси играет служанку[п 1], которую изнасиловал карлик-десница. в постановке также присутствует мальчик-король и толстый король.\n",
      "\n",
      "\n",
      "В каком году впервые был проведен турнир в Харренхолле?:\n",
      "\n",
      "MODEL: frequency RESULT: в 281 году состоялся знаменитый турнир в харренхолле, на который съехалась вся знать вестероса. турнир был организован уолтером уэнтом сразу после того, как его навестил младший брат — рыцарь королевской гвардии сир освелл уэнт. именно рейгар попросил сира освелла поехать к брату и попросить об организации турнира. принц сам дал уолтеру золото на турнир, чтобы призы были невероятно щедрыми. из-за призов на турнир съехались самые знатные лорды и рыцари. говорят, что рейгар хотел созвать совет, чтобы отстранить отца от власти[11].\n",
      "MODEL: TF_IDF RESULT: в 281 году состоялся знаменитый турнир в харренхолле, на который съехалась вся знать вестероса. турнир был организован уолтером уэнтом сразу после того, как его навестил младший брат — рыцарь королевской гвардии сир освелл уэнт. именно рейгар попросил сира освелла поехать к брату и попросить об организации турнира. принц сам дал уолтеру золото на турнир, чтобы призы были невероятно щедрыми. из-за призов на турнир съехались самые знатные лорды и рыцари. говорят, что рейгар хотел созвать совет, чтобы отстранить отца от власти[11].\n",
      "MODEL: 2StepTFIDF RESULT: в 281 году состоялся знаменитый турнир в харренхолле, на который съехалась вся знать вестероса. турнир был организован уолтером уэнтом сразу после того, как его навестил младший брат — рыцарь королевской гвардии сир освелл уэнт. именно рейгар попросил сира освелла поехать к брату и попросить об организации турнира. принц сам дал уолтеру золото на турнир, чтобы призы были невероятно щедрыми. из-за призов на турнир съехались самые знатные лорды и рыцари. говорят, что рейгар хотел созвать совет, чтобы отстранить отца от власти[11].\n",
      "MODEL: W2V RESULT: лорд лионель баратеон, по прозвищу смеющийся вихрь — лорд штормового предела во время правления эйгона v таргариена. участник эшфордского турнира в 209 году от з.э.\n",
      "\n",
      "\n"
     ]
    }
   ],
   "source": [
    "question_list = ['Как называются семь ликов единого божества в вере в Семерых?',\n",
    "                 'Сколько на самом деле королевств в Вестеросе?',\n",
    "                 'Какой из храмов Рглора самый большой?',\n",
    "                 'Что такое десница короля?',\n",
    "                 'В каком году впервые был проведен турнир в Харренхолле?']\n",
    "\n",
    "for question in question_list:\n",
    "    print(question + ':')\n",
    "    print()\n",
    "    print(\"MODEL: {} RESULT: {}\".format(\"frequency\", frequency_qa.n_closest_paragraphs(question, n=1)[0]))\n",
    "    print(\"MODEL: {} RESULT: {}\".format(\"TF_IDF\", tfidf_qa.n_closest_paragraphs(question, n=1)[0]))\n",
    "    print(\"MODEL: {} RESULT: {}\".format(\"2StepTFIDF\", tfidf2_qa.n_closest_paragraphs(question, n=1)[0]))\n",
    "    print(\"MODEL: {} RESULT: {}\".format(\"W2V\", w2v_qa.n_closest_paragraphs(question, n=1)[0]))\n",
    "    print()\n",
    "    print()"
   ]
  },
  {
   "cell_type": "markdown",
   "metadata": {
    "deletable": true,
    "editable": true
   },
   "source": [
    "### Тут можно задать свой вопрос"
   ]
  },
  {
   "cell_type": "code",
   "execution_count": 14,
   "metadata": {
    "collapsed": true,
    "deletable": true,
    "editable": true
   },
   "outputs": [],
   "source": [
    "question = 'Кому поклоняются красные жрецы'"
   ]
  },
  {
   "cell_type": "code",
   "execution_count": 15,
   "metadata": {
    "collapsed": false,
    "deletable": true,
    "editable": true
   },
   "outputs": [
    {
     "name": "stdout",
     "output_type": "stream",
     "text": [
      "«красные храмы» рглора есть во всех вольных городах, и в некоторых, как, например, в мире, лисе и тироше, эта религия является господствующей, хотя там есть и храмы других, местных богов[17]. салладор саан насмешливо рассказывал про храм в его родном лисе, что жрецы «всегда что-нибудь жгут и взывают к своему рглору. надоели они мне со своими кострами»[6]. в пентосе красные жрецы обещали магистрам, что владыка света защитит город хотя бы и от миллиона дотракийцев[18]. в 300 году от з.э. приверженцы красных жрецов в квохоре попытались сжечь изваяние черного козла, по-видимому, неудачно[19].\n",
      "\n",
      "\n",
      "«последний поцелуй», «поцелуй бога» или «поцелуй огня» — это ритуал, который красные жрецы проводят с умирающими и мертвыми. он сродни трюку с глотанием огня: жрец «наполняет свой рот огнем» и выдыхает пламя в рот умирающему, «в его легкие, сердце и душу», чтобы проводить его в последний путь. торос из мира много видел, как это делали старые жрецы, и сам пару раз проводил обряд, прежде чем применить его к берику дондарриону[13].\n",
      "\n",
      "\n"
     ]
    }
   ],
   "source": [
    "results = frequency_qa.n_closest_paragraphs(question, n=2)\n",
    "print_results(results)"
   ]
  },
  {
   "cell_type": "code",
   "execution_count": 16,
   "metadata": {
    "collapsed": false,
    "deletable": true,
    "editable": true
   },
   "outputs": [
    {
     "name": "stdout",
     "output_type": "stream",
     "text": [
      "семеро: септоны • верховный септон • праведные (совет веры) • молчаливые сестры красные жрецы (р'глор) • утопленники (утонувший бог) • бородатые жрецы (норвос) • благодати\n",
      "\n",
      "\n",
      "семеро: септоны • верховный септон • праведные (совет веры) • молчаливые сестры красные жрецы (р'глор) • утопленники (утонувший бог) • бородатые жрецы (норвос) • благодати\n",
      "\n",
      "\n"
     ]
    }
   ],
   "source": [
    "results = tfidf_qa.n_closest_paragraphs(question, n=2)\n",
    "print_results(results)"
   ]
  },
  {
   "cell_type": "code",
   "execution_count": 17,
   "metadata": {
    "collapsed": false,
    "deletable": true,
    "editable": true
   },
   "outputs": [
    {
     "name": "stdout",
     "output_type": "stream",
     "text": [
      "семеро: септоны • верховный септон • праведные (совет веры) • молчаливые сестры красные жрецы (р'глор) • утопленники (утонувший бог) • бородатые жрецы (норвос) • благодати\n",
      "\n",
      "\n",
      "красные жрецы в течение книг демонстрировали удивительные чудеса. это может значить, что рглор и правда существует, или что, по крайней мере, жрецы обучаются некоей магии.\n",
      "\n",
      "\n"
     ]
    }
   ],
   "source": [
    "results = tfidf2_qa.n_closest_paragraphs(question, n=2)\n",
    "print_results(results)"
   ]
  },
  {
   "cell_type": "code",
   "execution_count": 18,
   "metadata": {
    "collapsed": false,
    "deletable": true,
    "editable": true
   },
   "outputs": [
    {
     "name": "stdout",
     "output_type": "stream",
     "text": [
      "азор ахай — ключевой персонаж веры в р'глора: красные жрецы считают азора ахая мессией и пророчат его второе пришествие. мелисандра считала возрожденным азором ахаем короля станниса баратеона и приложила немалые усилия для того, чтобы внушить эту веру и другим сторонникам станниса.\n",
      "\n",
      "\n",
      "согласно учению красных жрецов р'глора, азор ахай должен возродиться заново и снова спасти мир от тьмы, на этот раз окончательно. пророчества об этом содержатся в древних книгах асшая; о них известно не только со слов красных жрецов — мелисандры и волантисского первосвященника бенерро — но и со слов мейстеров эймона и марвина. неизвестно, насколько древними являются эти пророчества: мейстер эймон говорил, что мейстеры обманывались ложным толкованием пророчества тысячу лет[4]; мелисандра называла срок уже в пять тысяч лет[5], то есть примерно во времена, совпадающие с временем основания валирии:\n",
      "\n",
      "\n"
     ]
    }
   ],
   "source": [
    "results = w2v_qa.n_closest_paragraphs(question, n=2)\n",
    "print_results(results)"
   ]
  },
  {
   "cell_type": "code",
   "execution_count": null,
   "metadata": {
    "collapsed": true,
    "deletable": true,
    "editable": true
   },
   "outputs": [],
   "source": []
  },
  {
   "cell_type": "code",
   "execution_count": null,
   "metadata": {
    "collapsed": true,
    "deletable": true,
    "editable": true
   },
   "outputs": [],
   "source": []
  }
 ],
 "metadata": {
  "kernelspec": {
   "display_name": "Python 3",
   "language": "python",
   "name": "python3"
  },
  "language_info": {
   "codemirror_mode": {
    "name": "ipython",
    "version": 3
   },
   "file_extension": ".py",
   "mimetype": "text/x-python",
   "name": "python",
   "nbconvert_exporter": "python",
   "pygments_lexer": "ipython3",
   "version": "3.5.2"
  }
 },
 "nbformat": 4,
 "nbformat_minor": 0
}
